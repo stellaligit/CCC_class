{
 "metadata": {
  "language_info": {
   "codemirror_mode": {
    "name": "ipython",
    "version": 3
   },
   "file_extension": ".py",
   "mimetype": "text/x-python",
   "name": "python",
   "nbconvert_exporter": "python",
   "pygments_lexer": "ipython3",
   "version": 3
  },
  "orig_nbformat": 2
 },
 "nbformat": 4,
 "nbformat_minor": 2,
 "cells": [
  {
   "cell_type": "markdown",
   "metadata": {},
   "source": [
    "## Question called: Sunflower\n",
    "~~~~~~~~\n",
    "Barbara plants N different sunflowers, each with a unique height, ordered from smallest to largest, and records their heights for N consecutive days. Each day, all of her flowers grow taller than they were the day before.\n",
    "\n",
    "She records each of these measurements in a table, with one row for each plant, with the first row recording the shortest sunflower's growth and the last row recording the tallest sunflower's growth.\n",
    "\n",
    "The leftmost column is the first measurement for each sunflower, and the rightmost column is the last measurement for each sunflower.\n",
    "\n",
    "If a sunflower was smaller than another when initially planted, it remains smaller for every measurement.\n",
    "\n",
    "Unfortunately, her children may have altered her measurements by rotating her table by a multiple of 90 degrees.\n",
    "\n",
    "Your job is to help Barbara determine her original data.\n",
    "\n",
    "Input Specification:\n",
    "The first line of input contains the number N (2≤N≤100). The next N lines each contain N positive integers, each of which is at most 109 . It is guaranteed that the input grid represents a rotated version of Barbara's grid.\n",
    "\n",
    "Output Specification:\n",
    "Output Barbara's original data, consisting of N lines, each of which contain N positive integers."
   ]
  },
  {
   "cell_type": "code",
   "execution_count": null,
   "metadata": {},
   "outputs": [],
   "source": [
    "n = int(input())\n",
    "\n",
    "a = []\n",
    "for i in range(n):\n",
    "    t = [int(x) for x in input().split()]\n",
    "    a.append(t)\n",
    "\n",
    "b = []\n",
    "for i in range(n):\n",
    "    t = []\n",
    "    for j in range(n):\n",
    "        t.append(0)\n",
    "    b.append(t)\n",
    "\n",
    "\n",
    "def need_to_rotate(a):\n",
    "    return a[0][0] > a[0][1] or a[0][0] > a[1][0]\n",
    "\n",
    "\n",
    "while need_to_rotate(a):\n",
    "    # b[j][n-1-i] = a[i][j]\n",
    "    for i in range(n):\n",
    "        for j in range(n):\n",
    "            b[j][n-1-i] = a[i][j]\n",
    "    a, b = b, a\n",
    "\n",
    "for x in a:\n",
    "    for j in range(n - 1):\n",
    "        print(x[j], end=\" \")\n",
    "    print(x[n - 1])"
   ]
  },
  {
   "cell_type": "markdown",
   "metadata": {},
   "source": [
    "## Question called: Trident\n",
    "~~~~~~~~~~\n",
    "A trident is a fork with three tines (prongs). A simple picture of a trident can be made from asterisks and spaces:\n",
    "\n",
    "*  *  *\n",
    "*  *  *\n",
    "*  *  *\n",
    "*******\n",
    "   *\n",
    "   *\n",
    "   *\n",
    "   *\n",
    "   \n",
    "In this example, each tine is a vertical column of 3 asterisks. Each tine is separated by 2 spaces. The handle is a vertical column of 4 asterisks below the middle tine.\n",
    "\n",
    "Tridents of various shapes can be drawn by varying three parameters: t, the height of the tines, s, the spacing between tines, and h, the length of the handle. For the example above we have t=3, s=2, and h=4.\n",
    "\n",
    "You are to write an interactive program to print a trident. Your program should accept as input the parameters t, s, and h, and print the appropriate trident. You can assume that t, s, h are each at least 0 and not larger than 10."
   ]
  },
  {
   "cell_type": "code",
   "execution_count": null,
   "metadata": {},
   "outputs": [],
   "source": [
    "t = int(input())\n",
    "s = int(input())\n",
    "h = int(input())\n",
    "\n",
    "for i in range(t):\n",
    "    for j in range(2):\n",
    "        print(\"*\", end=\"\")\n",
    "        for k in range(s):\n",
    "            print(\" \", end=\"\")\n",
    "    print(\"*\")\n",
    "\n",
    "for i in range(3 + 2 * s - 1):\n",
    "    print(\"*\", end=\"\")\n",
    "print(\"*\")\n",
    "\n",
    "for i in range(h):\n",
    "    for j in range(s + 1):\n",
    "        print(\" \", end=\"\")\n",
    "    print(\"*\")\n"
   ]
  }
 ]
}