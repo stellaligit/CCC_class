{
 "metadata": {
  "language_info": {
   "codemirror_mode": {
    "name": "ipython",
    "version": 3
   },
   "file_extension": ".py",
   "mimetype": "text/x-python",
   "name": "python",
   "nbconvert_exporter": "python",
   "pygments_lexer": "ipython3",
   "version": "3.8.3-final"
  },
  "orig_nbformat": 2,
  "kernelspec": {
   "name": "python_defaultSpec_1599618129510",
   "display_name": "Python 3.8.3 64-bit ('Python': virtualenv)"
  }
 },
 "nbformat": 4,
 "nbformat_minor": 2,
 "cells": [
  {
   "cell_type": "markdown",
   "metadata": {},
   "source": [
    "## Question called: [Sunflowers] (https://dmoj.ca/problem/ccc18s2)\n",
    "\n",
    "Barbara plants N different sunflowers, each with a unique height, ordered from smallest to largest, and records their heights for N consecutive days. Each day, all of her flowers grow taller than they were the day before.\n",
    "\n",
    "She records each of these measurements in a table, with one row for each plant, with the first row recording the shortest sunflower's growth and the last row recording the tallest sunflower's growth.\n",
    "\n",
    "The leftmost column is the first measurement for each sunflower, and the rightmost column is the last measurement for each sunflower.\n",
    "\n",
    "If a sunflower was smaller than another when initially planted, it remains smaller for every measurement.\n",
    "\n",
    "Unfortunately, her children may have altered her measurements by rotating her table by a multiple of 90 degrees.\n",
    "\n",
    "Your job is to help Barbara determine her original data.\n",
    "\n",
    "Input Specification:\n",
    "The first line of input contains the number N (2≤N≤100). The next N lines each contain N positive integers, each of which is at most 109 . It is guaranteed that the input grid represents a rotated version of Barbara's grid.\n",
    "\n",
    "Output Specification:\n",
    "Output Barbara's original data, consisting of N lines, each of which contain N positive integers."
   ]
  },
  {
   "cell_type": "code",
   "execution_count": null,
   "metadata": {
    "tags": []
   },
   "outputs": [],
   "source": [
    "n = int(input())\n",
    "\n",
    "a = []\n",
    "for i in range(n):\n",
    "    t = [int(x) for x in input().split()]\n",
    "    a.append(t)\n",
    "\n",
    "b = [[0] * n for i in range(n)]\n",
    "\n",
    "def need_to_rotate(a):\n",
    "    return a[0][0] > a[0][1] or a[0][0] > a[1][0]\n",
    "\n",
    "while need_to_rotate(a):\n",
    "    # b[j][n-1-i] = a[i][j]\n",
    "    for i in range(n):\n",
    "        for j in range(n):\n",
    "            b[j][n-1-i] = a[i][j]\n",
    "    a, b = b, a\n",
    "\n",
    "for x in a:\n",
    "    print(*x)"
   ]
  },
  {
   "cell_type": "markdown",
   "metadata": {},
   "source": [
    "## Question called: [Trident] (https://dmoj.ca/problem/ccc03j1)\n",
    "\n",
    "A trident is a fork with three tines (prongs). A simple picture of a trident can be made from asterisks and spaces:\n",
    "```\n",
    "*  *  *\n",
    "*  *  *\n",
    "*  *  *\n",
    "*******\n",
    "   *\n",
    "   *\n",
    "   *\n",
    "   *\n",
    "```\n",
    "In this example, each tine is a vertical column of 3 asterisks. Each tine is separated by 2 spaces. The handle is a vertical column of 4 asterisks below the middle tine.\n",
    "\n",
    "Tridents of various shapes can be drawn by varying three parameters: t, the height of the tines, s, the spacing between tines, and h, the length of the handle. For the example above we have t=3, s=2, and h=4.\n",
    "\n",
    "You are to write an interactive program to print a trident. Your program should accept as input the parameters t, s, and h, and print the appropriate trident. You can assume that t, s, h are each at least 0 and not larger than 10."
   ]
  },
  {
   "cell_type": "code",
   "execution_count": null,
   "metadata": {},
   "outputs": [],
   "source": [
    "t = int(input())\n",
    "s = int(input())\n",
    "h = int(input())\n",
    "\n",
    "for i in range(t):\n",
    "    for j in range(2):\n",
    "        print(\"*\", end=\"\")\n",
    "        for k in range(s):\n",
    "            print(\" \", end=\"\")\n",
    "    print(\"*\")\n",
    "\n",
    "for i in range(3 + 2 * s - 1):\n",
    "    print(\"*\", end=\"\")\n",
    "print(\"*\")\n",
    "\n",
    "for i in range(h):\n",
    "    for j in range(s + 1):\n",
    "        print(\" \", end=\"\")\n",
    "    print(\"*\")\n"
   ]
  },
  {
   "cell_type": "markdown",
   "metadata": {},
   "source": [
    "## Question called: [Voronoi Villages] (https://dmoj.ca/problem/ccc18s1)\n",
    "\n",
    "Canadian Computing Competition: 2018 Stage 1, Senior #1\n",
    "In the country of Voronoi, there are N villages, located at distinct points on a straight road. Each of these villages will be represented by an integer position along this road.\n",
    "\n",
    "Each village defines its neighbourhood as all points along the road which are closer to it than to any other village. A point which is equally close to two distinct villages A and B is in the neighbourhood of A and also in the neighbourhood of B.\n",
    "\n",
    "Each neighbourhood has a size which is the difference between the minimum (leftmost) point in its neighbourhood and the maximum (rightmost) point in its neighbourhood.\n",
    "\n",
    "The neighbourhoods of the leftmost and rightmost villages are defined to be of infinite size, while all other neighbourhoods are finite in size.\n",
    "\n",
    "Determine the smallest size of any of the neighbourhoods (with exactly 1 digit after the decimal point).\n",
    "\n",
    "Input Specification\n",
    "The first line will contain the number N (3≤N≤100), the number of villages. On the next N lines there will be one integer per line, where the ith line contains the integer Vi , the position of the ith village (−1000000000≤Vi≤1000000000). All villages are at distinct positions.\n",
    "\n",
    "Output Specification\n",
    "Output the smallest neighbourhood size with exactly one digit after the decimal point."
   ]
  },
  {
   "cell_type": "code",
   "execution_count": null,
   "metadata": {
    "tags": []
   },
   "outputs": [],
   "source": [
    "n = int(input())\n",
    "\n",
    "a = []\n",
    "for i in range(n):\n",
    "    t = int(input())\n",
    "    a.append(t)\n",
    "\n",
    "a.sort()\n",
    "\n",
    "smallestsize = 0\n",
    "for i in range(1, n-1):\n",
    "    size = (a[i+1] - a[i-1]) / 2\n",
    "    if i == 1:\n",
    "        smallestsize = size\n",
    "    elif size < smallestsize:\n",
    "        smallestsize = size\n",
    "\n",
    "print(smallestsize)"
   ]
  },
  {
   "cell_type": "markdown",
   "metadata": {},
   "source": [
    "## Question called: [Phone Microwave] (https://dmoj.ca/problem/dmopc13c3p2)\n",
    "\n",
    "Recently, you have lost all sense of time, constantly forgetting what year it is. You assume this is due to that fact that you are in possession of the infamous Phone Microwave, which sends text messages to the past — for every second the microwave is set to, the message will go an hour back in time. In a desperate attempt to fix your internal temporal clock (which was ruined by confusing your past self with messages about the future), you decide to send one last message telling you not to acquire the suspicious-looking microwave in the first place. To do so, you need to write a program telling you what time your past self will receive the message, based on the current time and the microwave's settings.\n",
    "\n",
    "Given the date and setting on the microwave, figure out when your past self will receive the text. The microwave has a maximum time setting of 2 hours and you may assume that you always start between the years 2010 and 2011. The input will be given by the seconds and the time.\n",
    "\n",
    "Input Specification\n",
    "The first line of input contains an integer S, the Phone Microwave's time setting, in seconds. This value will not exceed 7200 (2 hours).\n",
    "\n",
    "The second line of input contains the current date, given in this format:\n",
    "```\n",
    "YYYY/MM/DD HH:MM:SS\n",
    "```\n",
    "The year will be one of the years 2010 or 2011, the month will be a valid month from 01 to 12, and the day will be a valid day for that month. Here is a mnemonic to help you remember:\n",
    "> 30 days hath September,\n",
    "> April, June and November,\n",
    "> All the rest have 31,\n",
    "> Excepting February alone\n",
    "> (And that has 28 days clear,\n",
    "> With 29 in each leap year).\n",
    "The hour will be a valid hour from 00 to 23, and the minutes and seconds will each be a valid value ranging from 00 to 59.\n",
    "\n",
    "Output Specification\n",
    "You are to output the date when your past self receives the text, in the same format as the input as described in the previous section.\n",
    "\n",
    "Constraints:\n",
    "\n",
    "Test Case Batch\t| Marks | Constraints\n",
    "--------------- | ----- | -----------\n",
    "1 `[3 cases]`\t| 20 | 0≤S≤10 <br> Additionally, your past self will receive the text on the same day.\n",
    "2 `[3 cases]`\t| 30 | 0≤S≤48 <br> Additionally, your past self will receive the text on the same month.\n",
    "3 `[3 cases]`\t| 30 | 0≤S≤7200 <br> Additionally, your past self will receive the text on the same year.\n",
    "4 `[3 cases]`\t| 20 | 0≤S≤7200 <br> No extra constraints."
   ]
  },
  {
   "cell_type": "code",
   "execution_count": null,
   "metadata": {},
   "outputs": [],
   "source": [
    "# to be updated tomorrow :)"
   ]
  }
 ]
}