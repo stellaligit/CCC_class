{
 "cells": [
  {
   "cell_type": "markdown",
   "metadata": {},
   "source": [
    "## Bob's Box\n",
    "\n",
    "Bob has N boxes, which are numbered from 1 to N. There are A balls in all the odd index boxes (like box 1, 3), and  balls in all the even index boxes (like box 2, 4). What's the total number of balls Bob has?\n",
    "\n",
    "### Input Specification\n",
    "The first line has three positive integers N, A, and B (1 ≤ N ≤ 200, 1 ≤ A, B ≤ 100).\n",
    "\n",
    "### Output Specification\n",
    "Output one integer, the total number of balls.\n",
    "\n",
    "### Sample Input 1\n",
    "4 1 2\n",
    "### Sample Output 1\n",
    "6\n",
    "### Sample Input 2\n",
    "5 2 3\n",
    "### Sample Output 2\n",
    "12"
   ]
  },
  {
   "cell_type": "markdown",
   "metadata": {},
   "source": [
    "## Candy\n",
    "\n",
    "Bob has N candies and he wants to distribute all N candies to some kids. Can you find all possible number of kids to which Bob can evenly distribute the candies without cutting any one of them?\n",
    "\n",
    "### Input Specification\n",
    "The first line has one positive integer N (1 ≤ N ≤ 10 ^ 12), the number of candies Bob has.\n",
    "\n",
    "### Output Specification\n",
    "Output the possible number in ascending order, one per line.\n",
    "\n",
    "### Constraints\n",
    "Subtask\t| Points | Additional Constraints <br>\n",
    "1 | 40 | N ≤ 1,000,000 <br>\n",
    "2 | 60 | No additional constraints. <br>\n",
    "\n",
    "### Sample Input 1\n",
    "12\n",
    "### Sample Output 1\n",
    "1 <br>\n",
    "2 <br>\n",
    "3 <br>\n",
    "4 <br>\n",
    "6 <br>\n",
    "12 <br>\n",
    "### Sample Input 2\n",
    "8\n",
    "### Sample Output 2\n",
    "1 <br>\n",
    "2 <br>\n",
    "4 <br>\n",
    "8 <br>"
   ]
  },
  {
   "cell_type": "markdown",
   "metadata": {},
   "source": [
    "## Maximum Sum of Two Numbers\n",
    "\n",
    "Given N positive integers, find the largest sum of two numbers and the sum is not exceeding M. NOTE you cannot use the same number at the same index twice.\n",
    "\n",
    "### Input Specification\n",
    "The first line contains two positive integers, N (3 ≤ N ≤ 10 ^ 5) and M (2 ≤ M ≤ 10 ^ 9).\n",
    "\n",
    "The second line contains N positive integers a<sub>i</sub>(1 ≤ a<sub>i</sub> ≤ 10 ^ 9).\n",
    "\n",
    "### Output Specification\n",
    "The maximum sum of any two numbers not exceeding .\n",
    "\n",
    "### Sample Input 1\n",
    "5 7 <br>\n",
    "4 2 3 5 4 <br>\n",
    "### Sample Output 1\n",
    "7\n",
    "### Sample Input 2\n",
    "4 111 <br>\n",
    "30 50 70 80 <br>\n",
    "### Sample Output 2\n",
    "110"
   ]
  },
  {
   "cell_type": "markdown",
   "metadata": {},
   "source": [
    "## Bob's Groups\n",
    "\n",
    "Bob is a teacher and he has N students in his class, numbered from 1 to N. Bob wants to create M group, denoted as G1, G2, ..., GM, such that the groups satisfies the following conditions.\n",
    "\n",
    "* Every student is included in exactly two of the groups\n",
    "* Any two groups share exactly one student in common.\n",
    "\n",
    "If such grouping plan exists, output \"Yes\" and construct one; otherwise, output \"No\".\n",
    "\n",
    "### Input Specification\n",
    "The first line of input contains one intergers N (1 ≤ N ≤ 10 ^ 5), the number of students.\n",
    "\n",
    "### Output Specification\n",
    "If no such grouping plan exists, output \"No\".\n",
    "\n",
    "If such a grouping plan exists, output \"Yes\" in the first line, and the output M, the number of groups, in the second line. For each of the following M lines, the first integer |Gi| is the number of students in the group, and then output |Gi| numbers indicating the students in the group.\n",
    "\n",
    "If there are multiple grouping plans, output any one of them."
   ]
  }
 ],
 "metadata": {
  "language_info": {
   "name": "python"
  },
  "orig_nbformat": 4
 },
 "nbformat": 4,
 "nbformat_minor": 2
}
