{
 "cells": [
  {
   "cell_type": "markdown",
   "source": [
    "## Cow Gymnastics (USACO 2019 December Bronze P1)\r\n",
    "\r\n",
    "In order to improve their physical fitness, the cows have taken up gymnastics! Farmer John designates his favorite cow Bessie to coach the N other cows and to assess their progress as they learn various gymnastic skills.\r\n",
    "\r\n",
    "In each of K practice sessions (1≤K≤10), Bessie ranks the N cows according to their performance (1≤N≤20). Afterward, she is curious about the consistency in these rankings. A pair of two distinct cows is consistent if one cow did better than the other one in every practice session.\r\n",
    "\r\n",
    "Help Bessie compute the total number of consistent pairs.\r\n",
    "\r\n",
    "### INPUT FORMAT:\r\n",
    "The first line of the input file contains two positive integers K and N.\r\n",
    "\r\n",
    "The next K lines will each contain the integers 1,…,N in some order, indicating the rankings of the cows (cows are identified by the numbers 1,…,N). If A appears before B in one of these lines, that means cow A did better than cow B.\r\n",
    "\r\n",
    "### OUTPUT FORMAT:\r\n",
    "Output, on a single line, the number of consistent pairs.\r\n",
    "\r\n",
    "### SAMPLE INPUT:\r\n",
    "3 4 <br>\r\n",
    "4 1 2 3 <br>\r\n",
    "4 1 3 2 <br>\r\n",
    "4 2 1 3 <br>\r\n",
    "### SAMPLE OUTPUT:\r\n",
    "4\r\n",
    "### Explanation\r\n",
    "The consistent pairs of cows are (1,4), (2,4), (3,4), and (1,3)."
   ],
   "metadata": {}
  }
 ],
 "metadata": {
  "orig_nbformat": 4,
  "language_info": {
   "name": "python"
  }
 },
 "nbformat": 4,
 "nbformat_minor": 2
}