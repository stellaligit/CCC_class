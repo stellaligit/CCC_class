{
 "metadata": {
  "language_info": {
   "codemirror_mode": {
    "name": "ipython",
    "version": 3
   },
   "file_extension": ".py",
   "mimetype": "text/x-python",
   "name": "python",
   "nbconvert_exporter": "python",
   "pygments_lexer": "ipython3",
   "version": 3
  },
  "orig_nbformat": 2
 },
 "nbformat": 4,
 "nbformat_minor": 2,
 "cells": [
  {
   "source": [
    "## Question: [Modulo] (https://dmoj.ca/problem/oly19practice29)\n",
    "Given three integers X, Y, and Z (1≤X,Y≤100, 0≤Z<Y), you want to find out an integer which is a multiple of X and modulus Y with the remainder Z. If such a number exists, print YES; otherwise, print NO.\n",
    "\n",
    "Input Specification\n",
    "The first line contains three integers, X, Y and Z.\n",
    "\n",
    "Output Specification\n",
    "Print YES if such a number exists, otherwise NO."
   ],
   "cell_type": "markdown",
   "metadata": {}
  },
  {
   "cell_type": "code",
   "execution_count": null,
   "metadata": {},
   "outputs": [],
   "source": [
    "x, y, z = [int(i) for i in input().split()]\n",
    "\n",
    "flag = False\n",
    "for i in range(y):\n",
    "     if (x * i) % y == z:\n",
    "        print(\"YES\")\n",
    "        flag = True\n",
    "        break\n",
    "\n",
    "if not flag:\n",
    "    print(\"NO\")"
   ]
  },
  {
   "source": [
    "## Question: [Pumpkin Patches] (https://dmoj.ca/problem/dmopc18c2p1)\n",
    "Roger is getting ready for his final Halloween of high school!\n",
    "\n",
    "To celebrate, he goes to the land of Cartesia with Robert to grow P pumpkins. The ith pumpkin is at point (xi,yi).\n",
    "\n",
    "Unfortunately, the Pumpkin King of Cartesia has demanded that he surround his field of pumpkins with an axis-aligned rectangular fence first. Given that Roger is very poor, can you determine the minimum length of fencing he needs to enclose all his pumpkins?\n",
    "\n",
    "Note: A pumpkin is considered within the fence if it lies on the fence.\n",
    "\n",
    "### Constraints\n",
    "2≤P≤100000 <br>\n",
    "−1000000 ≤ x<sub>i</sub>, y<sub>i</sub>≤1000000 <br>\n",
    "The locations of all pumpkins are pairwise distinct.\n",
    "\n",
    "It is guaranteed the area enclosed by the fence will be positive.\n",
    "\n",
    "### Input Specification\n",
    "The first line of input will contain a single integer, P.\n",
    "The next P lines will each contain two space-separated integers, xi and yi, the co-ordinates of the ith pumpkin.\n",
    "\n",
    "### Output Specification\n",
    "A single integer, the amount of fencing Roger and Robert will need."
   ],
   "cell_type": "markdown",
   "metadata": {}
  },
  {
   "cell_type": "code",
   "execution_count": null,
   "metadata": {},
   "outputs": [],
   "source": [
    "n = int(input())\n",
    "\n",
    "x0 = 1000000\n",
    "x1 = -1000000\n",
    "y0 = 1000000\n",
    "y1 = -1000000\n",
    "\n",
    "for i in range(n):\n",
    "    x, y = [int(i) for i in input().split()]\n",
    "    if x < x0:\n",
    "        x0 = x\n",
    "    if x > x1:\n",
    "        x1 = x\n",
    "    if y < y0:\n",
    "        y0 = y\n",
    "    if y > y1:\n",
    "        y1 = y\n",
    "\n",
    "print(2 * (x1 - x0 + y1 - y0))"
   ]
  }
 ]
}