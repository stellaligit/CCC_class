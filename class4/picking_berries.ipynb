{
 "metadata": {
  "language_info": {
   "codemirror_mode": {
    "name": "ipython",
    "version": 3
   },
   "file_extension": ".py",
   "mimetype": "text/x-python",
   "name": "python",
   "nbconvert_exporter": "python",
   "pygments_lexer": "ipython3",
   "version": 3
  },
  "orig_nbformat": 2,
  "kernelspec": {
   "name": "python_defaultSpec_1595989019140",
   "display_name": "Python 3.8.3 64-bit ('base': conda)"
  }
 },
 "nbformat": 4,
 "nbformat_minor": 2,
 "cells": [
  {
   "cell_type": "markdown",
   "metadata": {},
   "source": [
    "## DMPG '15 B3 - Picking Berries\n",
    "Bob sees a bush with some delicious looking berries beside his campsite. Unfortunately, he never goes outside, and can't tell leaves and berries apart, let alone edible berries and poisonous ones. He wishes to pick all the edible berries, and as a courteous gesture, pick all the poisonous ones too so nobody accidentally eats them. Can you help him?\n",
    "Bob likes representing things visually. Each bush can be represented by some ASCII characters. with a # representing a leaf, an o representing an edible berry, and a * representing a poisonous berry. A space indicates that neither a leaf or berry is present. Help Bob pick the berries by replacing the berries in the bush with a space.\n",
    "### Input Specification\n",
    "The first line will contain two integers W (1 ≤ W ≤ 100) and H (1 ≤ H ≤ 100), separated by a space, which will\n",
    "represent the width and height of the bush respectively. The next H lines will contain W characters that represent the bush. Leading and trailing spaces will be given so that every line is W characters long.\n",
    "### Output Specification\n",
    "The first H lines will contain W characters, an ASCII representation of the picked bush. Leading spaces should be printed. This will be followed by another line with all of the edible berries from the bush.\n",
    "\n",
    "### Sample Input\n",
    "<pre><code>\n",
    "\n",
    "8 4\n",
    "#o##\n",
    "#*##*#\n",
    "##o##o##\n",
    "######\n",
    "\n",
    "</code></pre>\n",
    "\n",
    "### Sample Output\n",
    "<pre><code>\n",
    "\n",
    "# ##\n",
    "# ## #\n",
    "## ## ##\n",
    "######\n",
    "ooo\n",
    "\n",
    "</code></pre>\n",
    "Time Limit: 2.0s Memory Limit: 32M"
   ]
  },
  {
   "cell_type": "code",
   "execution_count": null,
   "metadata": {
    "tags": []
   },
   "outputs": [],
   "source": [
    "s = input()\n",
    "a = s.split()\n",
    "w = int(a[0])\n",
    "h = int(a[1])\n",
    "\n",
    "leaf = \"#\"\n",
    "edible_berry = \"o\"\n",
    "poisonous_berry = \"*\"\n",
    "\n",
    "b = 0\n",
    "\n",
    "for i in range(h):\n",
    "    t = input()\n",
    "    for ch in t:\n",
    "        if ch == edible_berry:\n",
    "            print(\" \", end = \"\")\n",
    "            b = b + 1\n",
    "        elif ch == poisonous_berry:\n",
    "            print(\" \", end = \"\")\n",
    "        else:\n",
    "            print(ch, end = \"\")\n",
    "        \n",
    "    print()\n",
    "\n",
    "for j in range(b):\n",
    "    print(\"o\", end = \"\")"
   ]
  }
 ]
}