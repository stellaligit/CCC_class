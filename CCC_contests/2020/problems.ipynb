{
 "metadata": {
  "language_info": {
   "codemirror_mode": {
    "name": "ipython",
    "version": 3
   },
   "file_extension": ".py",
   "mimetype": "text/x-python",
   "name": "python",
   "nbconvert_exporter": "python",
   "pygments_lexer": "ipython3",
   "version": 3
  },
  "orig_nbformat": 2
 },
 "nbformat": 4,
 "nbformat_minor": 2,
 "cells": [
  {
   "source": [
    "## Dog Treats\n",
    "Barley the dog loves treats. At the end of the day he is either happy or sad depending on the number and size of treats he receives throughout the day. The treats come in three sizes: small, medium, and large. His happiness score can be measured using the following formula:\n",
    "\n",
    "1 × S + 2 × M + 3 × L\n",
    "\n",
    "where S is the number of small treats, M is the number of medium treats and L is the number of large treats.\n",
    "\n",
    "If Barley’s happiness score is 10 or greater then he is happy. Otherwise, he is sad. Determine whether Barley is happy or sad at the end of the day.\n",
    "\n",
    "### Input Specification\n",
    "There are three lines of input. Each line contains a non-negative integer less than 10. The first line contains the number of small treats, S, the second line contains the number of medium treats, M, and the third line contains the number of large treats, L, that Barley receives in a day.\n",
    "\n",
    "### Output Specification\n",
    "If Barley’s happiness score is 10 or greater, output happy. Otherwise, output sad"
   ],
   "cell_type": "markdown",
   "metadata": {}
  }
 ]
}