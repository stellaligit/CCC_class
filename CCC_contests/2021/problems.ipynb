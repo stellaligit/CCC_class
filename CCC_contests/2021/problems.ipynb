{
 "metadata": {
  "language_info": {
   "codemirror_mode": {
    "name": "ipython",
    "version": 3
   },
   "file_extension": ".py",
   "mimetype": "text/x-python",
   "name": "python",
   "nbconvert_exporter": "python",
   "pygments_lexer": "ipython3",
   "version": "3.8.5-final"
  },
  "orig_nbformat": 2,
  "kernelspec": {
   "name": "python3",
   "display_name": "Python 3",
   "language": "python"
  }
 },
 "nbformat": 4,
 "nbformat_minor": 2,
 "cells": [
  {
   "source": [
    "## Boiling Water\n",
    "At sea level, atmospheric pressure is 100 kPa and water begins to boil at 100◦C. As you go above sea level, atmospheric pressure decreases, and water boils at lower temperatures. As you go below sea level, atmospheric pressure increases, and water boils at higher temperatures. A formula relating atmospheric pressure to the temperature at which water begins to boil is\n",
    "\n",
    "P = 5 × B − 400\n",
    "\n",
    "where P is atmospheric pressure measured in kPa, and B is the temperature at which water begins to boil measured in ◦C. Given the temperature at which water begins to boil, determine atmospheric pressure. Also determine if you are below sea level, at sea level, or above sea level. Note that the science of this problem is generally correct but the values of 100◦C and 100 kPa are approximate and the formula is a simplification of the exact relationship between water’s boiling point and atmospheric pressure.\n",
    "\n",
    "### Input Specification\n",
    "The input is one line containing an integer B where B ≥ 80 and B ≤ 200. This represents\n",
    "the temperature in ◦C at which water begins to boil.\n",
    "\n",
    "### Output Specification\n",
    "The output is two lines. The first line must contain an integer which is atmospheric pressure\n",
    "measured in kPa. The second line must contain the integer -1, 0, or 1. This integer represents\n",
    "whether you are below sea level, at sea level, or above sea level, respectively."
   ],
   "cell_type": "markdown",
   "metadata": {}
  },
  {
   "source": [
    "## Silent Auction\n",
    "A charity is having a silent auction where people place bids on a prize without knowing anyone else’s bid. Each bid includes a person’s name and the amount of their bid. After the silent auction is over, the winner is the person who has placed the highest bid. If there is a tie, the person whose bid was placed first wins. Your job is to determine the winner of the silent auction.\n",
    "\n",
    "### Input Specification\n",
    "The first line of input contains a positive integer N, where 1 ≤ N ≤ 100, representing the number of bids collected at the silent auction. Each of the next N pairs of lines contains a person’s name on one line, and the amount of their bid, in dollars, on the next line. Each bid is a positive integer less than 2000. The order of the input is the order in which bids were placed.\n",
    "\n",
    "### Output Specification\n",
    "Output the name of the person who has won the silent auction."
   ],
   "cell_type": "markdown",
   "metadata": {}
  },
  {
   "source": [
    "## Secret Instructions\n",
    "Professor Santos has decided to hide a secret formula for a new type of biofuel. She has, however, left a sequence of coded instructions for her assistant.\n",
    "Each instruction is a sequence of five digits which represents a direction to turn and the number of steps to take. The first two digits represent the direction to turn:\n",
    "\n",
    "* If their sum is odd, then the direction to turn is left. <br/>\n",
    "* If their sum is even and not zero, then the direction to turn is right. <br/>\n",
    "* If their sum is zero, then the direction to turn is the same as the previous instruction.\n",
    "\n",
    "The remaining three digits represent the number of steps to take which will always be at least 100. Your job is to decode the instructions so the assistant can use them to find the secret formula.\n",
    "\n",
    "### Input Specification\n",
    "There will be at least two lines of input. Each line except the last line will contain exactly\n",
    "five digits representing an instruction. The first line will not begin with 00. The last line\n",
    "will contain 99999 and no other line will contain 99999.\n",
    "\n",
    "### Output Specification\n",
    "There must be one line of output for each line of input except the last line of input. These\n",
    "output lines correspond to the input lines (in order). Each output line gives the decoding of\n",
    "the corresponding instruction: either right or left, followed by a single space, followed by\n",
    "the number of steps to be taken in that direction."
   ],
   "cell_type": "markdown",
   "metadata": {}
  },
  {
   "source": [
    "##  Arranging Books\n",
    "Valentina wants books on a shelf to be arranged in a particular way. Every time she sees a shelf of books, she rearranges the books so that all the large books appear on the left, followed by all the medium-sized books, and then all the small books on the right. She does this by repeatedly choosing any two books and exchanging their locations. Exchanging the locations of two books is called a swap. Help Valentina determine the fewest number of swaps needed to arrange a shelf of books as she wishes.\n",
    "\n",
    "### Input Specification\n",
    "The input will consist of exactly one line containing at least one character.\n",
    "The following table shows how the available 15 marks are distributed.\n",
    "\n",
    "7 marks | at most 1000 characters    | each character will be L or S <br/>\n",
    "2 marks | at most 500 000 characters | each character will be L or S <br/>\n",
    "4 marks | at most 1000 characters    | each character will be L, M, or S <br/>\n",
    "2 marks | at most 500 000 characters | each character will be L, M, or S <br/>\n",
    "\n",
    "### Output Specification\n",
    "Output a single integer which is equal to the minimum possible number of swaps needed to arrange the books so that all occurrences of L come first, followed by all occurrences of M, and then all occurrences of S."
   ],
   "cell_type": "markdown",
   "metadata": {}
  },
  {
   "source": [
    "## Modern Art\n",
    "A new and upcoming artist has a unique way to create checkered patterns. The idea is to use an M-by-N canvas which is initially entirely black. Then the artist repeatedly chooses a row or column and runs their magic brush along the row or column. The brush changes the colour of each cell in the row or column from black to gold or gold to black. Given the artist’s choices, your job is to determine how much gold appears in the pattern determined by these choices.\n",
    "\n",
    "### Input Specification\n",
    "The first line of input will be a positive integer M. The second line of input will be a positive integer N. The third line of input will be a positive integer K. The remaining input will be K lines giving the choices made by the artist. Each of these lines will either be R followed by a single space and then an integer which is a row number, or C followed by a single space and then an integer which is a column number. Rows are numbered top down from 1 to M. Columns are numbered left to right from 1 to N. The following table shows how the available 15 marks are distributed.\n",
    "\n",
    "1 mark | M = 1 | N = 1 | K ≤ 100 | only one cell, and up to 100 choices by the artist <br/>\n",
    "4 marks | M = 1 | N ≤ 100 | K ≤ 100 | only one row, and up to 100 choices by the artist <br/>\n",
    "5 marks | M ≤ 100 | N ≤ 100 | K ≤ 100 | up to 100 rows, up to 100 columns, and up to 100 choices by the artist <br/>\n",
    "5 marks | MN ≤ 5 000 000 | K ≤ 1 000 000 | up to 5 000 000 cells, and up to 1 000 000 choices by the artist\n",
    "\n",
    "### Output Specification\n",
    "Output one non-negative integer which is equal to the number of cells that are gold in the pattern determined by the artist’s choices."
   ],
   "cell_type": "markdown",
   "metadata": {}
  }
 ]
}