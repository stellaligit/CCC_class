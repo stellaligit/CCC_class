{
 "metadata": {
  "language_info": {
   "codemirror_mode": {
    "name": "ipython",
    "version": 3
   },
   "file_extension": ".py",
   "mimetype": "text/x-python",
   "name": "python",
   "nbconvert_exporter": "python",
   "pygments_lexer": "ipython3",
   "version": "3.8.3-final"
  },
  "orig_nbformat": 2,
  "kernelspec": {
   "name": "python_defaultSpec_1600698029579",
   "display_name": "Python 3.8.3 64-bit ('base': conda)"
  }
 },
 "nbformat": 4,
 "nbformat_minor": 2,
 "cells": [
  {
   "source": [
    "## Question: [That Missing Number] (https://dmoj.ca/problem/dwite09c1p3)\n",
    "You have a continuous sequence of unique numbers, 1…N, that you like very much, but your little sister always steals one (and only one), and randomly re-arranges the rest in an attempt to hide the crime. Given N−1 numbers, in a random order, find out which number was taken.\n",
    "\n",
    "The input will contain 5 sets of input. The first line will be an integer 1≤M≤100, the number of items remaining. Followed by M lines of unique integers, from at least 1 to at most M+1.\n",
    "\n",
    "The output will contain 5 lines, each an integer from the missing set.\n",
    "\n",
    "Note: the original sorted sequence is {1,2,3,…,N−1,N}. Any of the numbers (including 1 or N) can be taken."
   ],
   "cell_type": "markdown",
   "metadata": {}
  },
  {
   "cell_type": "code",
   "execution_count": null,
   "metadata": {
    "tags": []
   },
   "outputs": [],
   "source": [
    "for i in range(5):\n",
    "    m = int(input())\n",
    "    a = []\n",
    "    for j in range(m):\n",
    "        t = int(input())\n",
    "        a.append(t)\n",
    "\n",
    "    for j in range(1, m + 2):\n",
    "        if j not in a:\n",
    "            print(j)\n",
    "            break"
   ]
  },
  {
   "cell_type": "code",
   "execution_count": null,
   "metadata": {
    "tags": []
   },
   "outputs": [],
   "source": [
    "for i in range(5):\n",
    "    m = int(input())\n",
    "    f = [False] * (m + 1)\n",
    "    for j in range(m):\n",
    "        t = int(input())\n",
    "        f[t - 1] = True\n",
    "\n",
    "    for j in range(m + 1):\n",
    "        if not f[j]:\n",
    "            print(j + 1)\n",
    "            break"
   ]
  },
  {
   "source": [
    "## Question: [Do the Shuffle] (https://dmoj.ca/problem/ccc08j2)\n",
    "Those tiny music machines that play your digital music are really computers that keep track of and play music files. The CCC music player (C3MP) is currently in development and will be hitting the stores soon! In this problem, you have to simulate a C3MP.\n",
    "\n",
    "The C3MP music player will hold 5 songs in memory, whose titles will always be \"A\", \"B\", \"C\", \"D\" and \"E\". The C3MP also keeps track of a playlist, which is an ordering of all the songs. The C3MP has 4 buttons that the user will press to rearrange the playlist and play the songs.\n",
    "\n",
    "Initially, the C3MP playist is \"A, B, C, D, E\". The 4 control buttons do the following:\n",
    "\n",
    "* Button 1: move the first song of the playlist to the end of the playlist.\n",
    "For example: \"A, B, C, D, E\" will change to \"B, C, D, E, A\".\n",
    "\n",
    "* Button 2: move the last song of the playlist to the start of the playlist.\n",
    "For example, \"A, B, C, D, E\" will change to \"E, A, B, C, D\".\n",
    "\n",
    "* Button 3: swap the first two songs of the playlist.\n",
    "For example, \"A, B, C, D, E\" will change to \"B, A, C, D, E\".\n",
    "\n",
    "* Button 4: stop rearranging songs and output the playlist.\n",
    "You need to write a program to simulate a CCC music player. Your program should repeatedly ask for two positive integers b and n. Here b represents the button number that the user wants to press, 1≤b≤4, and n represents the number of times that the user wants to press button b. You can assume that n always satisfies 1≤n≤10.\n",
    "\n",
    "The input will always finish with the pair of inputs (b=4, n=1) when this happens, you should print the order of songs in the current playlist and your program should end. You can assume that the user will only ever press button 4 once."
   ],
   "cell_type": "markdown",
   "metadata": {}
  },
  {
   "cell_type": "code",
   "execution_count": null,
   "metadata": {
    "tags": []
   },
   "outputs": [],
   "source": [
    "s = [\"A\", \"B\", \"C\", \"D\", \"E\"]\n",
    "while True:\n",
    "    a = int(input())\n",
    "    b = int(input())\n",
    "    for i in range(b):\n",
    "        if a == 1:\n",
    "            s = s[1:] + s[0:1]\n",
    "        elif a == 2:\n",
    "            s = s[-1:] + s[:4]\n",
    "        elif a == 3:\n",
    "            s[0], s[1] = s[1], s[0]\n",
    "\n",
    "    if a == 4:\n",
    "        print(*s)\n",
    "        break"
   ]
  },
  {
   "source": [
    "## Question: [Magic Trick] (https://dmoj.ca/problem/dwite12c2p4)\n",
    "Your friend is trying to convince you of his magical powers. He decides to perform the following trick to persuade you: Given a list of N shuffled cards, where each card has a unique number from {1,2,…,N} written on it, he'll guess the numbers on the cards. Knowing that this is highly improbable, you call his bluff. He then continues to tell you that he still needs one more piece of information for this trick to work. For every card in the deck, he needs to know how many cards after of this card has a bigger number written on it. Being a Computer Science student, you claim that you can write a program to do this simple trick as well.\n",
    "\n",
    "The input will contain 5 test cases. Each test case consists of 2 lines. The first line will contain an integer 1≤N≤100, the number of cards in a deck. The following line will contain N numbers, separated by a space. Where each number represents the count of cards in the deck, with a larger value than the card in the position of that number. e.g. a list that starts with \"1 3 2 …\" says that there is 1 card greater than the first in the deck, 3 cards greater than the second card in the deck, etc.\n",
    "\n",
    "The output will contain 5 lines of output. Each a line of space separated numbers representing the original order of the deck in a corresponding test case. If no such deck can be constructed, print IMPOSSIBLE."
   ],
   "cell_type": "markdown",
   "metadata": {}
  },
  {
   "cell_type": "code",
   "execution_count": null,
   "metadata": {
    "tags": []
   },
   "outputs": [],
   "source": [
    "for i in range(1):\n",
    "    n = int(input())\n",
    "    list_1 = [int(i) for i in input().split()]\n",
    "    list_2 = [0] * n\n",
    "\n",
    "    zero_count = n\n",
    "    while zero_count > 0:\n",
    "        found_zero = False\n",
    "        for j in range(n):\n",
    "            if list_1[j] == 0:\n",
    "                found_zero = True\n",
    "\n",
    "                list_2[j] = zero_count\n",
    "                zero_count -= 1\n",
    "\n",
    "                for k in range(j + 1):\n",
    "                    list_1[k] -= 1\n",
    "                break\n",
    "        if not found_zero:\n",
    "            print(\"IMPOSSIBLE\")\n",
    "            break\n",
    "\n",
    "    if found_zero:\n",
    "        print(*list_2)\n"
   ]
  },
  {
   "cell_type": "code",
   "execution_count": null,
   "metadata": {},
   "outputs": [],
   "source": []
  }
 ]
}