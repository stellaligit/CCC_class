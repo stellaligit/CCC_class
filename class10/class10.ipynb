{
 "metadata": {
  "language_info": {
   "codemirror_mode": {
    "name": "ipython",
    "version": 3
   },
   "file_extension": ".py",
   "mimetype": "text/x-python",
   "name": "python",
   "nbconvert_exporter": "python",
   "pygments_lexer": "ipython3",
   "version": "3.8.3-final"
  },
  "orig_nbformat": 2,
  "kernelspec": {
   "name": "python_defaultSpec_1600698029579",
   "display_name": "Python 3.8.3 64-bit ('base': conda)"
  }
 },
 "nbformat": 4,
 "nbformat_minor": 2,
 "cells": [
  {
   "source": [
    "## Question: [That Missing Number] (https://dmoj.ca/problem/dwite09c1p3)\n",
    "You have a continuous sequence of unique numbers, 1…N, that you like very much, but your little sister always steals one (and only one), and randomly re-arranges the rest in an attempt to hide the crime. Given N−1 numbers, in a random order, find out which number was taken.\n",
    "\n",
    "The input will contain 5 sets of input. The first line will be an integer 1≤M≤100, the number of items remaining. Followed by M lines of unique integers, from at least 1 to at most M+1.\n",
    "\n",
    "The output will contain 5 lines, each an integer from the missing set.\n",
    "\n",
    "Note: the original sorted sequence is {1,2,3,…,N−1,N}. Any of the numbers (including 1 or N) can be taken."
   ],
   "cell_type": "markdown",
   "metadata": {}
  },
  {
   "cell_type": "code",
   "execution_count": null,
   "metadata": {
    "tags": []
   },
   "outputs": [],
   "source": [
    "for i in range(5):\n",
    "    m = int(input())\n",
    "    a = []\n",
    "    for j in range(m):\n",
    "        t = int(input())\n",
    "        a.append(t)\n",
    "\n",
    "    for j in range(1, m + 2):\n",
    "        if j not in a:\n",
    "            print(j)\n",
    "            break"
   ]
  },
  {
   "cell_type": "code",
   "execution_count": null,
   "metadata": {
    "tags": []
   },
   "outputs": [],
   "source": [
    "for i in range(5):\n",
    "    m = int(input())\n",
    "    f = [False] * (m + 1)\n",
    "    for j in range(m):\n",
    "        t = int(input())\n",
    "        f[t - 1] = True\n",
    "\n",
    "    for j in range(m + 1):\n",
    "        if not f[j]:\n",
    "            print(j + 1)\n",
    "            break"
   ]
  },
  {
   "source": [
    "## Question: [Do the Shuffle] (https://dmoj.ca/problem/ccc08j2)\n",
    "Those tiny music machines that play your digital music are really computers that keep track of and play music files. The CCC music player (C3MP) is currently in development and will be hitting the stores soon! In this problem, you have to simulate a C3MP.\n",
    "\n",
    "The C3MP music player will hold 5 songs in memory, whose titles will always be \"A\", \"B\", \"C\", \"D\" and \"E\". The C3MP also keeps track of a playlist, which is an ordering of all the songs. The C3MP has 4 buttons that the user will press to rearrange the playlist and play the songs.\n",
    "\n",
    "Initially, the C3MP playist is \"A, B, C, D, E\". The 4 control buttons do the following:\n",
    "\n",
    "* Button 1: move the first song of the playlist to the end of the playlist.\n",
    "For example: \"A, B, C, D, E\" will change to \"B, C, D, E, A\".\n",
    "\n",
    "* Button 2: move the last song of the playlist to the start of the playlist.\n",
    "For example, \"A, B, C, D, E\" will change to \"E, A, B, C, D\".\n",
    "\n",
    "* Button 3: swap the first two songs of the playlist.\n",
    "For example, \"A, B, C, D, E\" will change to \"B, A, C, D, E\".\n",
    "\n",
    "* Button 4: stop rearranging songs and output the playlist.\n",
    "You need to write a program to simulate a CCC music player. Your program should repeatedly ask for two positive integers b and n. Here b represents the button number that the user wants to press, 1≤b≤4, and n represents the number of times that the user wants to press button b. You can assume that n always satisfies 1≤n≤10.\n",
    "\n",
    "The input will always finish with the pair of inputs (b=4, n=1) when this happens, you should print the order of songs in the current playlist and your program should end. You can assume that the user will only ever press button 4 once."
   ],
   "cell_type": "markdown",
   "metadata": {}
  },
  {
   "cell_type": "code",
   "execution_count": null,
   "metadata": {
    "tags": []
   },
   "outputs": [],
   "source": [
    "s = [\"A\", \"B\", \"C\", \"D\", \"E\"]\n",
    "while True:\n",
    "    a = int(input())\n",
    "    b = int(input())\n",
    "    for i in range(b):\n",
    "        if a == 1:\n",
    "            s = s[1:] + s[0:1]\n",
    "        elif a == 2:\n",
    "            s = s[-1:] + s[:4]\n",
    "        elif a == 3:\n",
    "            s[0], s[1] = s[1], s[0]\n",
    "\n",
    "    if a == 4:\n",
    "        print(*s)\n",
    "        break"
   ]
  },
  {
   "source": [
    "## Question: [Magic Trick] (https://dmoj.ca/problem/dwite12c2p4)\n",
    "Your friend is trying to convince you of his magical powers. He decides to perform the following trick to persuade you: Given a list of N shuffled cards, where each card has a unique number from {1,2,…,N} written on it, he'll guess the numbers on the cards. Knowing that this is highly improbable, you call his bluff. He then continues to tell you that he still needs one more piece of information for this trick to work. For every card in the deck, he needs to know how many cards after of this card has a bigger number written on it. Being a Computer Science student, you claim that you can write a program to do this simple trick as well.\n",
    "\n",
    "The input will contain 5 test cases. Each test case consists of 2 lines. The first line will contain an integer 1≤N≤100, the number of cards in a deck. The following line will contain N numbers, separated by a space. Where each number represents the count of cards in the deck, with a larger value than the card in the position of that number. e.g. a list that starts with \"1 3 2 …\" says that there is 1 card greater than the first in the deck, 3 cards greater than the second card in the deck, etc.\n",
    "\n",
    "The output will contain 5 lines of output. Each a line of space separated numbers representing the original order of the deck in a corresponding test case. If no such deck can be constructed, print IMPOSSIBLE."
   ],
   "cell_type": "markdown",
   "metadata": {}
  },
  {
   "cell_type": "code",
   "execution_count": null,
   "metadata": {
    "tags": []
   },
   "outputs": [],
   "source": [
    "for i in range(1):\n",
    "    n = int(input())\n",
    "    list_1 = [int(i) for i in input().split()]\n",
    "    list_2 = [0] * n\n",
    "\n",
    "    zero_count = n\n",
    "    while zero_count > 0:\n",
    "        found_zero = False\n",
    "        for j in range(n):\n",
    "            if list_1[j] == 0:\n",
    "                found_zero = True\n",
    "\n",
    "                list_2[j] = zero_count\n",
    "                zero_count -= 1\n",
    "\n",
    "                for k in range(j + 1):\n",
    "                    list_1[k] -= 1\n",
    "                break\n",
    "        if not found_zero:\n",
    "            print(\"IMPOSSIBLE\")\n",
    "            break\n",
    "\n",
    "    if found_zero:\n",
    "        print(*list_2)\n"
   ]
  },
  {
   "source": [
    "## Question: [Semafori] (https://dmoj.ca/problem/coci07c6p2)\n",
    "Luka is driving his truck along a long straight road with many traffic lights. For each traffic light he knows how long the red and green lights will be on (the cycle repeating endlessly).\n",
    "\n",
    "When Luka starts his journey, all traffic lights are red and just started their cycle. Luka moves one distance unit per second. When a traffic light is red, he stops and waits until it turns green.\n",
    "\n",
    "Write a program that determines how much time Luka needs to reach the end of the road. The start of the road is at distance zero, the end at distance L.\n",
    "\n",
    "Input Specification\n",
    "The first line contains two integers N and L (1≤N≤100,1≤L≤1000), the number of traffic lights on the road and the length of the road.\n",
    "\n",
    "Each of the next N lines contains three integers D, R and G, describing one traffic light (1≤D<L,1≤R≤100,1≤G≤100). D is the distance of the traffic light from the start of the road. R and G denote how long the red and green lights are on, respectively.\n",
    "\n",
    "The traffic lights will be ordered in increasing order of D. No two traffic lights will share the same position.\n",
    "\n",
    "Output Specification\n",
    "Output the time (in seconds) Luka needs to reach the end of the road."
   ],
   "cell_type": "markdown",
   "metadata": {}
  },
  {
   "cell_type": "code",
   "execution_count": null,
   "metadata": {},
   "outputs": [],
   "source": [
    "n, m = [int(s) for s in input().split()]\n",
    "\n",
    "last_position = 0\n",
    "leave_time = 0\n",
    "for i in range(n):\n",
    "    d, r, g = [int(s) for s in input().split()]\n",
    "    arrive_time = leave_time + d - last_position\n",
    "    mod = arrive_time % (r + g)\n",
    "\n",
    "    leave_time = arrive_time if mod >= r else leave_time += r - mod\n",
    "\n",
    "    '''\n",
    "    wait_time = 0\n",
    "    if mod < r:\n",
    "        wait_time = r - mod\n",
    "    leave_time = arrive_time + wait_time\n",
    "    '''\n",
    "\n",
    "    last_position = d\n",
    "\n",
    "print(leave_time + m - last_position)"
   ]
  },
  {
   "source": [
    "## Question: [Conspicuous Cryptic Checklist] (https://dmoj.ca/problem/dmopc19c5p1)\n",
    "Tzak has spent the weekend hastily preparing DMOPC problems! Unfortunately, he is now behind on several assignments. After rummaging through his backpack, he realizes that he has N items. To save space, he records the i-th item as a string, si, on his checklist. He has M upcoming assignments, the i-th of which requires Ti items to complete, r1,r2,…,rTi. If Tzak has all Ti required items, he can complete the i-th assignment. Otherwise, he flunks it. Help him determine how many assignments he can complete!\n",
    "\n",
    "Constraints\n",
    "In all subtasks,\n",
    "1≤N,M,Ti≤200\n",
    "1≤|si|,|ri|≤10 where |S| denotes the length of string S\n",
    "\n",
    "Input Specification\n",
    "The first line contains two space-separated integers, N and M.\n",
    "The next N lines contain a single string, si. It is guaranteed that all the strings will be unique. The next M sections contain a single integer Ti, followed by Ti lines each containing a single string, ri.\n",
    "\n",
    "Output Specification\n",
    "Output a single integer on a single line, the answer to the problem."
   ],
   "cell_type": "markdown",
   "metadata": {}
  },
  {
   "cell_type": "code",
   "execution_count": null,
   "metadata": {},
   "outputs": [],
   "source": [
    "n, m = [int(i) for i in input().split()]\n",
    "\n",
    "backpack = []\n",
    "for i in range(n):\n",
    "    t = input()\n",
    "    backpack.append(t)\n",
    "\n",
    "\n",
    "ans = 0\n",
    "for i in range(m):\n",
    "    flag = True\n",
    "    number = int(input())\n",
    "    for j in range(number):\n",
    "        stuff = input()\n",
    "        if flag and stuff not in backpack:\n",
    "            flag = False\n",
    "\n",
    "    if flag:\n",
    "        ans += 1\n",
    "\n",
    "print(ans)"
   ]
  },
  {
   "source": [
    "## Question: [Poetry] (https://dmoj.ca/problem/ccc03s2)\n",
    "A simple poem consists of one or more four-line verses. Each line consists of one or more words consisting of upper or lower case letters, or a combination of both upper and lower case letters. Adjacent words on a line are separated by a single space.\n",
    "\n",
    "We define the last syllable of a word to be the sequence of letters from the last vowel (a, e, i, o or u, but not y) to the end of the word. If a word has no vowel, then the last syllable is the word itself. We say that two lines rhyme if their last syllables are the same, ignoring case.\n",
    "\n",
    "You are to classify the form of rhyme in each verse. The form of rhyme can be perfect, even, cross, shell, or free:\n",
    "\n",
    "* perfect rhyme: the four lines in the verse all rhyme\n",
    "* even rhyme: the first two lines rhyme and the last two lines rhyme\n",
    "* cross rhyme: the first and third lines rhyme, as do the second and fourth\n",
    "* shell rhyme: the first and fourth lines rhyme, as do the second and third\n",
    "* free rhyme: any form that is not perfect, even, cross, or shell.\n",
    "* The first line of the input file contains an integer N, the number of verses in the  * poem, 1≤N≤5. The following 4N lines of the input file contain the lines of the poem. * Each line contains at most 80 letters of the alphabet and spaces as described above.\n",
    "\n",
    "The output should have N lines. For each verse of the poem there should a single line containing one of the words perfect, even, cross, shell or free describing the form of rhyme in that verse."
   ],
   "cell_type": "markdown",
   "metadata": {}
  },
  {
   "cell_type": "code",
   "execution_count": null,
   "metadata": {},
   "outputs": [],
   "source": [
    "n = int(input())\n",
    "for i in range(n):\n",
    "    last_syllable = []\n",
    "    for j in range(4):\n",
    "        t = input().split()\n",
    "        w = t[-1].lower()\n",
    "        for k in range(-1, -len(w) - 1, -1):\n",
    "            if w[k] in \"aeiou\":\n",
    "                w = w[k:]\n",
    "                last_syllable.append(w)\n",
    "                break\n",
    "        else:\n",
    "            last_syllable.append(w)\n",
    "\n",
    "    if last_syllable[0] == last_syllable[1] == last_syllable[2] == last_syllable[3]:\n",
    "        print(\"perfect\")\n",
    "    elif last_syllable[0] == last_syllable[1] and last_syllable[2] == last_syllable[3]:\n",
    "        print(\"even\")\n",
    "    elif last_syllable[0] == last_syllable[2] and last_syllable[1] == last_syllable[3]:\n",
    "        print(\"cross\")\n",
    "    elif last_syllable[0] == last_syllable[3] and last_syllable[1] == last_syllable[2]:\n",
    "        print(\"shell\")\n",
    "    else:\n",
    "        print(\"free\")"
   ]
  }
 ]
}