{
 "metadata": {
  "language_info": {
   "codemirror_mode": {
    "name": "ipython",
    "version": 3
   },
   "file_extension": ".py",
   "mimetype": "text/x-python",
   "name": "python",
   "nbconvert_exporter": "python",
   "pygments_lexer": "ipython3",
   "version": 3
  },
  "orig_nbformat": 2
 },
 "nbformat": 4,
 "nbformat_minor": 2,
 "cells": [
  {
   "source": [
    "## Returning Home\n",
    "Canadian Computing Competition: 2005 Stage 1, Junior #3\n",
    "Jane's family has just moved to a new city and today is her first day of school. She has a list of instructions for walking from her home to the school. Each instruction describes a turn she must make. For example, the list\n",
    "\n",
    "R <br>\n",
    "QUEEN <br>\n",
    "R <br>\n",
    "FOURTH <br>\n",
    "R <br>\n",
    "SCHOOL <br>\n",
    "\n",
    "means that she must turn right onto Queen Street, then turn right onto Fourth Street, then finally turn right into the school. Your task is to write a computer program which will create instructions for walking in the opposite direction: from her school to her home.\n",
    "\n",
    "The input and output for your program will be formatted like the samples below. You may assume that Jane's list contains at least two but at most five instructions, and you may assume that each line contains at most 10 characters, all of them capital letters. The last instruction will always be a turn into the SCHOOL.\n",
    "\n",
    "### Sample Input 1\n",
    "R <br>\n",
    "QUEEN <br>\n",
    "R <br>\n",
    "FOURTH <br>\n",
    "R <br>\n",
    "SCHOOL <br>\n",
    "### Sample Output 1\n",
    "Turn LEFT onto FOURTH street. <br>\n",
    "Turn LEFT onto QUEEN street. <br>\n",
    "Turn LEFT into your HOME. <br>\n",
    "### Sample Input 2\n",
    "L <br>\n",
    "MAIN <br>\n",
    "R <br>\n",
    "SCHOOL <br>\n",
    "### Sample Output 2\n",
    "Turn LEFT onto MAIN street. <br>\n",
    "Turn RIGHT into your HOME. <br>"
   ],
   "cell_type": "markdown",
   "metadata": {}
  }
 ]
}