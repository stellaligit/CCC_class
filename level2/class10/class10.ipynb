{
 "metadata": {
  "language_info": {
   "codemirror_mode": {
    "name": "ipython",
    "version": 3
   },
   "file_extension": ".py",
   "mimetype": "text/x-python",
   "name": "python",
   "nbconvert_exporter": "python",
   "pygments_lexer": "ipython3",
   "version": 3
  },
  "orig_nbformat": 2
 },
 "nbformat": 4,
 "nbformat_minor": 2,
 "cells": [
  {
   "source": [
    "## Returning Home\n",
    "Canadian Computing Competition: 2005 Stage 1, Junior #3\n",
    "Jane's family has just moved to a new city and today is her first day of school. She has a list of instructions for walking from her home to the school. Each instruction describes a turn she must make. For example, the list\n",
    "\n",
    "R <br>\n",
    "QUEEN <br>\n",
    "R <br>\n",
    "FOURTH <br>\n",
    "R <br>\n",
    "SCHOOL <br>\n",
    "\n",
    "means that she must turn right onto Queen Street, then turn right onto Fourth Street, then finally turn right into the school. Your task is to write a computer program which will create instructions for walking in the opposite direction: from her school to her home.\n",
    "\n",
    "The input and output for your program will be formatted like the samples below. You may assume that Jane's list contains at least two but at most five instructions, and you may assume that each line contains at most 10 characters, all of them capital letters. The last instruction will always be a turn into the SCHOOL.\n",
    "\n",
    "### Sample Input 1\n",
    "R <br>\n",
    "QUEEN <br>\n",
    "R <br>\n",
    "FOURTH <br>\n",
    "R <br>\n",
    "SCHOOL <br>\n",
    "### Sample Output 1\n",
    "Turn LEFT onto FOURTH street. <br>\n",
    "Turn LEFT onto QUEEN street. <br>\n",
    "Turn LEFT into your HOME. <br>\n",
    "### Sample Input 2\n",
    "L <br>\n",
    "MAIN <br>\n",
    "R <br>\n",
    "SCHOOL <br>\n",
    "### Sample Output 2\n",
    "Turn LEFT onto MAIN street. <br>\n",
    "Turn RIGHT into your HOME. <br>"
   ],
   "cell_type": "markdown",
   "metadata": {}
  },
  {
   "source": [
    "## Keeping Score\n",
    "Canadian Computing Competition: 2001 Stage 1, Junior #3, Senior #1\n",
    "In a card game, each player's hand is made up of 13 cards. Each hand has a total point value determined by the number of cards that have a point value. The cards which are worth points are the Ace (4 points), King (3 points), Queen (2 points) and Jack (1 point). The other cards (2, 3, 4, 5, 6, 7, 8, 9, 10) have no point value.\n",
    "\n",
    "There are four of each type of card, one in each of the four suits. The suits are called clubs (C), diamonds (D), hearts (H), and spades (S). As well, points are assigned for each suit which has a void (3 points), a singleton (2 points), or a doubleton (1 point). A void in a suit means that there are no cards of that suit (e.g. a hand with no spades). A singleton in a suit means that there is only one card in that suit (e.g. a hand with only one diamond). A doubleton in a suit means that there are only two cards in that suit.\n",
    "\n",
    "Write a program to read a set of thirteen cards in the form of a string, then evaluate the number of points in the hand. The suits will appear in increasing alphabetical order. Within each suit there will be no duplicate cards.\n",
    "\n",
    "The output is to be the hand and the point value shown in a table form as below. Your output should list the cards in the same order as the input. Note that 10 is represented by the character T in both the input and the output.\n",
    "\n",
    "### Sample Input 1\n",
    "C258TJKD69QAHSTJA\n",
    "### Sample Output 1\n",
    "Cards Dealt              Points <br>\n",
    "Clubs 2 5 8 T J K             4 <br>\n",
    "Diamonds 6 9 Q A              6 <br>\n",
    "Hearts                        3 <br>\n",
    "Spades T J A                  5 <br>\n",
    "                       Total 18 <br>\n",
    "### Sample Input 2\n",
    "CAD578KAHAS47TQKA\n",
    "### Sample Output 2\n",
    "Cards Dealt              Points <br>\n",
    "Clubs A                       6 <br>\n",
    "Diamonds 5 7 8 K A            7 <br>\n",
    "Hearts A                      6 <br>\n",
    "Spades 4 7 T Q K A            9 <br>\n",
    "                       Total 28 <br>\n",
    "\n",
    "Note: your output does not need to match exactly. The spacing is up to you."
   ],
   "cell_type": "markdown",
   "metadata": {}
  }
 ]
}