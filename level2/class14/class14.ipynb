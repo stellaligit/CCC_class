{
 "metadata": {
  "language_info": {
   "codemirror_mode": {
    "name": "ipython",
    "version": 3
   },
   "file_extension": ".py",
   "mimetype": "text/x-python",
   "name": "python",
   "nbconvert_exporter": "python",
   "pygments_lexer": "ipython3",
   "version": 3
  },
  "orig_nbformat": 2
 },
 "nbformat": 4,
 "nbformat_minor": 2,
 "cells": [
  {
   "source": [
    "## Distance\n",
    "Eric wants to visit all N of his friends. Each friend lives at house i, labelled from 1 to N. Each house is separated by a single kilometre, meaning that the distance between house i and house j would be |i−j|. He decides to be a \"cool kid\", and not travel a certain distance more than once.\n",
    "\n",
    "For example, if there are 3 houses, he could start at the third house, proceed to the first house, and visit the second house last, with travel distances of [2,1].\n",
    "\n",
    "Eric must visit all of the N houses. Can you output a sequence that Eric can follow, such that he visits all N houses and never travels the same distance twice?\n",
    "\n",
    "### Constraints\n",
    "#### Subtask 1 \\[30%]\n",
    "2≤N≤10\n",
    "\n",
    "#### Subtask 2 \\[70%]\n",
    "2≤N≤105\n",
    "\n",
    "### Input Specification\n",
    "The first and only line of input will contain an integer N, the number of houses Eric needs to visit. The houses are labelled from 1 to N.\n",
    "\n",
    "### Output Specification\n",
    "You are to output a sequence of houses that matches the constraints stated in the problem description, each house separated by a space.\n",
    "\n",
    "### Sample Input 1\n",
    "3\n",
    "### Sample Output 1\n",
    "1 3 2\n",
    "### Sample Explanation 1\n",
    "For the first sample, he could also travel from house 3 to 1, and then 1 to 2 as stated in the problem description.\n",
    "\n",
    "### Sample Input 2\n",
    "2\n",
    "### Sample Output 2\n",
    "2 1\n",
    "### Sample Explanation 2\n",
    "In the second sample, he could also travel from 1 to 2."
   ],
   "cell_type": "markdown",
   "metadata": {}
  },
  {
   "source": [
    "## Home Row\n",
    "As a 30 WPM typer, you are sitting in a computer lab playing a modified version of TypeRacer in hopes of increasing your typing speed. In this game, your goal is to transform a given string of lowercase characters S into a new string of lowercase characters T. S is the string you start with on your screen. In one keystroke, you can delete a character from the back of the current string on your screen, or you can add a new lowercase character to the back of the current string. Since you strive to be as fast as possible, please compute the minimum number of keystrokes needed to transform S into T.\n",
    "\n",
    "### Constraints\n",
    "1≤|S|,|T|≤106, where |A| denotes the number of characters in A.\n",
    "\n",
    "S and T only contain lowercase characters.\n",
    "\n",
    "### Input Specification\n",
    "The first line contains the string S.\n",
    "\n",
    "The second line contains the string T.\n",
    "\n",
    "### Output Specification\n",
    "Output one integer, the minimum number of keystrokes needed to transform S into T.\n",
    "\n",
    "### Sample Input 1\n",
    "adachi <br>\n",
    "\n",
    "shimamura <br>\n",
    "### Sample Output 1\n",
    "15\n",
    "### Sample Input 2\n",
    "shinomiya <br>\n",
    "\n",
    "shirogane <br>\n",
    "### Sample Output 2\n",
    "12"
   ],
   "cell_type": "markdown",
   "metadata": {}
  }
 ]
}