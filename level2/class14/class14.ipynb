{
 "metadata": {
  "language_info": {
   "codemirror_mode": {
    "name": "ipython",
    "version": 3
   },
   "file_extension": ".py",
   "mimetype": "text/x-python",
   "name": "python",
   "nbconvert_exporter": "python",
   "pygments_lexer": "ipython3",
   "version": 3
  },
  "orig_nbformat": 2
 },
 "nbformat": 4,
 "nbformat_minor": 2,
 "cells": [
  {
   "source": [
    "## Distance\n",
    "Eric wants to visit all N of his friends. Each friend lives at house i, labelled from 1 to N. Each house is separated by a single kilometre, meaning that the distance between house i and house j would be |i−j|. He decides to be a \"cool kid\", and not travel a certain distance more than once.\n",
    "\n",
    "For example, if there are 3 houses, he could start at the third house, proceed to the first house, and visit the second house last, with travel distances of [2,1].\n",
    "\n",
    "Eric must visit all of the N houses. Can you output a sequence that Eric can follow, such that he visits all N houses and never travels the same distance twice?\n",
    "\n",
    "### Constraints\n",
    "#### Subtask 1 \\[30%]\n",
    "2≤N≤10\n",
    "\n",
    "#### Subtask 2 \\[70%]\n",
    "2≤N≤105\n",
    "\n",
    "### Input Specification\n",
    "The first and only line of input will contain an integer N, the number of houses Eric needs to visit. The houses are labelled from 1 to N.\n",
    "\n",
    "### Output Specification\n",
    "You are to output a sequence of houses that matches the constraints stated in the problem description, each house separated by a space.\n",
    "\n",
    "### Sample Input 1\n",
    "3\n",
    "### Sample Output 1\n",
    "1 3 2\n",
    "### Sample Explanation 1\n",
    "For the first sample, he could also travel from house 3 to 1, and then 1 to 2 as stated in the problem description.\n",
    "\n",
    "### Sample Input 2\n",
    "2\n",
    "### Sample Output 2\n",
    "2 1\n",
    "### Sample Explanation 2\n",
    "In the second sample, he could also travel from 1 to 2."
   ],
   "cell_type": "markdown",
   "metadata": {}
  }
 ]
}