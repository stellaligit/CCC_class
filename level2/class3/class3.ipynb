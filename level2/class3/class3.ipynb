{
 "metadata": {
  "language_info": {
   "codemirror_mode": {
    "name": "ipython",
    "version": 3
   },
   "file_extension": ".py",
   "mimetype": "text/x-python",
   "name": "python",
   "nbconvert_exporter": "python",
   "pygments_lexer": "ipython3",
   "version": 3
  },
  "orig_nbformat": 2
 },
 "nbformat": 4,
 "nbformat_minor": 2,
 "cells": [
  {
   "source": [
    "## USACO 2020 February Bronze P1 - Triangles\n",
    "Farmer John would like to create a triangular pasture for his cows.\n",
    "\n",
    "There are N fence posts (3≤N≤100) at distinct points (X1,Y1)…(XN,YN) on the 2D map of his farm. He can choose three of them to form the vertices of the triangular pasture as long as one of the sides of the triangle is parallel to the x-axis and another side is parallel to the y-axis.\n",
    "\n",
    "What is the maximum area of a pasture that Farmer John can form? It is guaranteed that at least one valid triangular pasture exists.\n",
    "\n",
    "### INPUT FORMAT:\n",
    "The first line of the input contains the integer N.\n",
    "\n",
    "Each of the next N lines contains two integers Xi and Yi, each in the range [−104,104] inclusive, describing the location of a fence post.\n",
    "\n",
    "### OUTPUT FORMAT:\n",
    "As the area itself is not necessarily an integer, output two times the maximum area of a valid triangle formed by the fence posts."
   ],
   "cell_type": "markdown",
   "metadata": {}
  }
 ]
}