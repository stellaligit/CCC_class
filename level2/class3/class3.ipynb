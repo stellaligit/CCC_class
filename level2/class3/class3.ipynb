{
 "metadata": {
  "language_info": {
   "codemirror_mode": {
    "name": "ipython",
    "version": 3
   },
   "file_extension": ".py",
   "mimetype": "text/x-python",
   "name": "python",
   "nbconvert_exporter": "python",
   "pygments_lexer": "ipython3",
   "version": 3
  },
  "orig_nbformat": 2
 },
 "nbformat": 4,
 "nbformat_minor": 2,
 "cells": [
  {
   "source": [
    "## USACO 2020 February Bronze P1 - Triangles\n",
    "Farmer John would like to create a triangular pasture for his cows.\n",
    "\n",
    "There are N fence posts (3≤N≤100) at distinct points (X1,Y1)…(XN,YN) on the 2D map of his farm. He can choose three of them to form the vertices of the triangular pasture as long as one of the sides of the triangle is parallel to the x-axis and another side is parallel to the y-axis.\n",
    "\n",
    "What is the maximum area of a pasture that Farmer John can form? It is guaranteed that at least one valid triangular pasture exists.\n",
    "\n",
    "### INPUT FORMAT:\n",
    "The first line of the input contains the integer N.\n",
    "\n",
    "Each of the next N lines contains two integers Xi and Yi, each in the range \\[−104,104\\] inclusive, describing the location of a fence post.\n",
    "\n",
    "### OUTPUT FORMAT:\n",
    "As the area itself is not necessarily an integer, output two times the maximum area of a valid triangle formed by the fence posts."
   ],
   "cell_type": "markdown",
   "metadata": {}
  },
  {
   "source": [
    "## Next Prime - Brute Force Practice 3\n",
    "You love prime numbers. You own a number, but you suspect it might not be prime. You want a prime number, but it must be at least as large as the number you currently own. Find the smallest number that satisfies those conditions.\n",
    "\n",
    "### Input\n",
    "The first line will have the integer N (1≤N≤2×109)\n",
    "\n",
    "### Output\n",
    "Print the number you want."
   ],
   "cell_type": "markdown",
   "metadata": {}
  },
  {
   "source": [
    "## USACO 2021 January Bronze P1 - Uddered but not Herd\n",
    "A little known fact about cows is that they have their own version of the alphabet, the \"cowphabet\". It consists of the 26 letters a through z, but when a cow speaks the cowphabet, she lists these letters in a specific ordering that might be different from the order abcdefghijklmnopqrstuvwxyz we are used to hearing. To pass the time, Bessie the cow has been humming the cowphabet over and over again, and Farmer John is curious how many times she's hummed it.\n",
    "\n",
    "Given a lowercase string of letters that Farmer John has heard Bessie say, compute the minimum number of times Bessie must have hummed the entire cowphabet in order for Farmer John to have heard the given string. Farmer John isn't always paying attention to what Bessie hums, and so he might have missed some of the letters that Bessie has hummed. The string you are told consists of just the letters that he remembers hearing.\n",
    "\n",
    "### INPUT FORMAT (input arrives from the terminal / stdin):\n",
    "The first line of input contains the 26 lowercase letters a through z in the order they appear in the cowphabet.\n",
    "\n",
    "The next line contains the string of lowercase letters that Farmer John heard Bessie say. This string has length at least 1 and at most 1000.\n",
    "\n",
    "### OUTPUT FORMAT (print output to the terminal / stdout):\n",
    "Print the minimum number of times Bessie must have hummed the entire cowphabet."
   ],
   "cell_type": "markdown",
   "metadata": {}
  },
  {
   "source": [
    "## USACO 2021 January Bronze P2 - Even More Odd Photos\n",
    "Farmer John is yet again trying to take a photograph of his N cows (2≤N≤1000).\n",
    "\n",
    "Each cow has an integer \"breed ID\" number in the range 1,…,100. Farmer John has a very peculiar idea in mind for his photo: he wants to partition all the cows into disjoint groups (in other words, place each cow in exactly one group) and then line up the groups so the sum of the breed IDs of the cows in the first group is even, the sum of the IDs in the second group is odd, and so on, alternating between even and odd.\n",
    "\n",
    "What is the maximum possible number of groups Farmer John can form?\n",
    "\n",
    "### INPUT FORMAT (input arrives from the terminal / stdin):\n",
    "The first line of input contains N. The next line contains N space-separated integers giving the breed IDs of the N cows.\n",
    "\n",
    "### OUTPUT FORMAT (print output to the terminal / stdout):\n",
    "The maximum possible number of groups in Farmer John's photo. It can be shown that at least one feasible grouping exists."
   ],
   "cell_type": "markdown",
   "metadata": {}
  },
  {
   "source": [
    "## Yet Another Primes Question\n",
    "DWITE Online Computer Programming Contest, December 2007, Problem 1\n",
    "\n",
    "Tony is busy writing his University exams, and lacks creativity. So he's making you write what you've already done in the last DWITE round, but differently. Instead of semiprimes, this time you're interested in numbers with 3 unique prime factors.\n",
    "\n",
    "### Input Specification\n",
    "Contains five integers, one per line. 1≤N≤1000.\n",
    "\n",
    "### Output Specification\n",
    "Contains five lines, stating if the supplied integers were valid or not. Use the exact string output, all lower case, without quotes.\n",
    "\n",
    "Note: you're looking for unique factors. For example, 12 has three prime factors: 2, 2, 3. But it's only two unique numbers: 2 and 3. Thus 12 is not what is asked for."
   ],
   "cell_type": "markdown",
   "metadata": {}
  },
  {
   "source": [
    "## A Factoring Problem\n",
    "A number N can be broken down into PM11×PM22×⋯×PMkk where Pi is a prime number. In other words, a number N can be broken down into its prime factors. We say the reduced form of a number N is the result of P1×P2×⋯×Pk, we also say the factored reduced form of an number N is M1×M2×⋯×Mk+P1×P2×⋯×Pk.\n",
    "\n",
    "Given N find its factored reduced form!\n",
    "\n",
    "###Input Specification\n",
    "The first and only line will contain an integer N (2≤N≤109).\n",
    "\n",
    "###Output Specification\n",
    "Output the factored reduced form of the integer N."
   ],
   "cell_type": "markdown",
   "metadata": {}
  }
 ]
}