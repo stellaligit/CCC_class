{
 "metadata": {
  "language_info": {
   "codemirror_mode": {
    "name": "ipython",
    "version": 3
   },
   "file_extension": ".py",
   "mimetype": "text/x-python",
   "name": "python",
   "nbconvert_exporter": "python",
   "pygments_lexer": "ipython3",
   "version": 3
  },
  "orig_nbformat": 2
 },
 "nbformat": 4,
 "nbformat_minor": 2,
 "cells": [
  {
   "source": [
    "## USACO 2020 February Bronze P1 - Triangles\n",
    "Farmer John would like to create a triangular pasture for his cows.\n",
    "\n",
    "There are N fence posts (3≤N≤100) at distinct points (X1,Y1)…(XN,YN) on the 2D map of his farm. He can choose three of them to form the vertices of the triangular pasture as long as one of the sides of the triangle is parallel to the x-axis and another side is parallel to the y-axis.\n",
    "\n",
    "What is the maximum area of a pasture that Farmer John can form? It is guaranteed that at least one valid triangular pasture exists.\n",
    "\n",
    "### INPUT FORMAT:\n",
    "The first line of the input contains the integer N.\n",
    "\n",
    "Each of the next N lines contains two integers Xi and Yi, each in the range [−104,104] inclusive, describing the location of a fence post.\n",
    "\n",
    "### OUTPUT FORMAT:\n",
    "As the area itself is not necessarily an integer, output two times the maximum area of a valid triangle formed by the fence posts."
   ],
   "cell_type": "markdown",
   "metadata": {}
  },
  {
   "source": [
    "## Next Prime - Brute Force Practice 3\n",
    "You love prime numbers. You own a number, but you suspect it might not be prime. You want a prime number, but it must be at least as large as the number you currently own. Find the smallest number that satisfies those conditions.\n",
    "\n",
    "### Input\n",
    "The first line will have the integer N (1≤N≤2×109)\n",
    "\n",
    "### Output\n",
    "Print the number you want."
   ],
   "cell_type": "markdown",
   "metadata": {}
  },
  {
   "source": [
    "## USACO 2021 January Bronze P1 - Uddered but not Herd\n",
    "A little known fact about cows is that they have their own version of the alphabet, the \"cowphabet\". It consists of the 26 letters a through z, but when a cow speaks the cowphabet, she lists these letters in a specific ordering that might be different from the order abcdefghijklmnopqrstuvwxyz we are used to hearing. To pass the time, Bessie the cow has been humming the cowphabet over and over again, and Farmer John is curious how many times she's hummed it.\n",
    "\n",
    "Given a lowercase string of letters that Farmer John has heard Bessie say, compute the minimum number of times Bessie must have hummed the entire cowphabet in order for Farmer John to have heard the given string. Farmer John isn't always paying attention to what Bessie hums, and so he might have missed some of the letters that Bessie has hummed. The string you are told consists of just the letters that he remembers hearing.\n",
    "\n",
    "### INPUT FORMAT (input arrives from the terminal / stdin):\n",
    "The first line of input contains the 26 lowercase letters a through z in the order they appear in the cowphabet.\n",
    "\n",
    "The next line contains the string of lowercase letters that Farmer John heard Bessie say. This string has length at least 1 and at most 1000.\n",
    "\n",
    "### OUTPUT FORMAT (print output to the terminal / stdout):\n",
    "Print the minimum number of times Bessie must have hummed the entire cowphabet."
   ],
   "cell_type": "markdown",
   "metadata": {}
  }
 ]
}