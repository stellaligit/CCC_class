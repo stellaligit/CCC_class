{
 "metadata": {
  "language_info": {
   "codemirror_mode": {
    "name": "ipython",
    "version": 3
   },
   "file_extension": ".py",
   "mimetype": "text/x-python",
   "name": "python",
   "nbconvert_exporter": "python",
   "pygments_lexer": "ipython3",
   "version": 3
  },
  "orig_nbformat": 2
 },
 "nbformat": 4,
 "nbformat_minor": 2,
 "cells": [
  {
   "source": [
    "## Terrific Triangles\n",
    "Plasmatic is having a test on the different types of triangles! However, he is unable to answer any questions because he was playing videogames in online classes. He vaguely remembers that the teacher taught 3 types of triangles -- acute, right and obtuse, but he doesn't remember how to identify any of them. He doesn't want to fail the test, so he needs your help to write a program to solve his problems.\n",
    "\n",
    "### Input Specification\n",
    "The first line contains T (1≤T≤105), the number of questions.\n",
    "\n",
    "Each of the following T lines contains l1,l2,l3 (1≤l1,l2,l3≤109), the side lengths of the triangle. It is guaranteed that the three side lengths forms a valid non-degenerate triangle.\n",
    "\n",
    "For test worth 30% of the score, there will be no acute triangles.\n",
    "\n",
    "Output Specification\n",
    "For of the T, output A if the triangle formed is acute, R if the triangle formed is right, O if the triangle formed is obtuse.\n",
    "\n",
    "### Sample Input 1\n",
    "2 <br>\n",
    "5 12 13 <br>\n",
    "5 11 13 <br>\n",
    "### Sample Output 1\n",
    "R <br>\n",
    "O <br>\n",
    "### Sample Input 2\n",
    "3 <br>\n",
    "2 3 4 <br>\n",
    "2 2 2 <br>\n",
    "3 4 5 <br>\n",
    "### Sample Output 2\n",
    "O <br>\n",
    "A <br>\n",
    "R <br>"
   ],
   "cell_type": "markdown",
   "metadata": {}
  }
 ]
}