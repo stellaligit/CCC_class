{
 "metadata": {
  "language_info": {
   "codemirror_mode": {
    "name": "ipython",
    "version": 3
   },
   "file_extension": ".py",
   "mimetype": "text/x-python",
   "name": "python",
   "nbconvert_exporter": "python",
   "pygments_lexer": "ipython3",
   "version": 3
  },
  "orig_nbformat": 2
 },
 "nbformat": 4,
 "nbformat_minor": 2,
 "cells": [
  {
   "source": [
    "## Word Scrambler\n",
    "\n",
    "Looking to find some clever anagrams, you want a helper tool that will list all possible arrangements of letters for a given source word. To make the list easier to scan, the output should be in ascending sorted order.\n",
    "\n",
    "### Input Specification\n",
    "The input will consist of one string of lower-case alphabet characters, at least 1 character long, and no more than 5.\n",
    "\n",
    "### Output Specification\n",
    "The output should contain all the possible combinations of letters in the word, sorted alphabetically.\n",
    "\n",
    "To make things easier, all of the letters in each word are guaranteed to be unique (so then every combination will also be unique).\n",
    "\n",
    "Note: since there are n! possibilities for combinations of n letters, you can use that fact to check that you have the right number of possibilities in your output.\n",
    "\n",
    "### Sample Input\n",
    "abc\n",
    "\n",
    "### Sample Output\n",
    "abc\n",
    "acb\n",
    "bac\n",
    "bca\n",
    "cab\n",
    "cba"
   ],
   "cell_type": "markdown",
   "metadata": {}
  }
 ]
}