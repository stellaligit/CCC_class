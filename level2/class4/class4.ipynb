{
 "metadata": {
  "language_info": {
   "codemirror_mode": {
    "name": "ipython",
    "version": 3
   },
   "file_extension": ".py",
   "mimetype": "text/x-python",
   "name": "python",
   "nbconvert_exporter": "python",
   "pygments_lexer": "ipython3",
   "version": 3
  },
  "orig_nbformat": 2
 },
 "nbformat": 4,
 "nbformat_minor": 2,
 "cells": [
  {
   "source": [
    "## Online Shopping\n",
    "\n",
    "Like many others, Mimi has spent the last month practicing social distancing. As part of her efforts, she has started shopping entirely online. She's found that online shopping offers a lot of advantages. In particular, you can easily look at many different websites in order to find the best price for an item.\n",
    "\n",
    "However, others have also started shopping online, which means that stores are running out of inventory. As a result, Mimi often has to order from multiple websites in order to get all the items that she wants.\n",
    "\n",
    "Mimi has a number of items that she has to buy. Can you help Mimi determine the minimum amount of money that she needs to spend to buy all the items?\n",
    "\n",
    "### Input Specification\n",
    "The first line begins with a single integer T (1≤T≤10), the number of test cases. T test cases follow.\n",
    "\n",
    "Each test case begins with one integer N (1≤N≤100), the number of stores. N store descriptions follow. Each store description begins with an integer M (1≤M≤100), the number of different items sold at each store. The next M lines each contain a lower-case string S and two integers P,Q (1≤P,Q≤100): the name of an item, its price, and the quantity that the store has in stock. Each item's name will be unique, and contain at most 50 characters.\n",
    "\n",
    "The next line contains an integer K (1≤K≤100), the number of different items that Mimi would like to buy. The next K lines each contain an item name S and an integer D (1≤D≤100), the amount of that item that Mimi would like to buy. Each item's name will only appear at most once.\n",
    "\n",
    "It is guaranteed that, unlike the real world, the total quantity of each item available in stores is greater than or equal to the quantity that Mimi would like to buy.\n",
    "\n",
    "### Output Specification\n",
    "For each test case, print a single integer: the minimum amount that Mimi needs to spend to buy all the items that she wants.\n",
    "\n",
    "### Sample Input\n",
    "<pre>\n",
    "1\n",
    "2\n",
    "2\n",
    "toiletpaper 1 50\n",
    "catnip 2 25\n",
    "1\n",
    "toiletpaper 100 1\n",
    "2\n",
    "toiletpaper 51\n",
    "catnip 10\n",
    "</pre>\n",
    "\n",
    "### Sample Output\n",
    "<pre>\n",
    "170\n",
    "</pre>"
   ],
   "cell_type": "markdown",
   "metadata": {}
  }
 ]
}