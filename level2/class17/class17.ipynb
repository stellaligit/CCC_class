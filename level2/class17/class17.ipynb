{
 "metadata": {
  "language_info": {
   "codemirror_mode": {
    "name": "ipython",
    "version": 3
   },
   "file_extension": ".py",
   "mimetype": "text/x-python",
   "name": "python",
   "nbconvert_exporter": "python",
   "pygments_lexer": "ipython3",
   "version": 3
  },
  "orig_nbformat": 2
 },
 "nbformat": 4,
 "nbformat_minor": 2,
 "cells": [
  {
   "source": [
    "## Primes 2\n",
    "Given two integers N and M (N≤M), output all the prime numbers between N and M inclusive, one per line.\n",
    "\n",
    "N and M will be positive integers less than or equal to 1000000000.\n",
    "The difference between N and M will be less than or equal to 5000000.\n",
    "\n",
    "### Sample Input\n",
    "5 20\n",
    "### Sample Output\n",
    "5 <br>\n",
    "7 <br>\n",
    "11 <br>\n",
    "13 <br>\n",
    "17 <br>\n",
    "19 <br>"
   ],
   "cell_type": "markdown",
   "metadata": {}
  }
 ]
}