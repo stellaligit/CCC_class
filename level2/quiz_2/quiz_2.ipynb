{
 "metadata": {
  "language_info": {
   "codemirror_mode": {
    "name": "ipython",
    "version": 3
   },
   "file_extension": ".py",
   "mimetype": "text/x-python",
   "name": "python",
   "nbconvert_exporter": "python",
   "pygments_lexer": "ipython3",
   "version": 3
  },
  "orig_nbformat": 2
 },
 "nbformat": 4,
 "nbformat_minor": 2,
 "cells": [
  {
   "source": [
    "## Bob's Reverse Number\n",
    "Bob has two positive integers A and B, and he wants to find out the less number. However, Bob doesn't like to interpret the number with the leftmost most significant digit, and he wants to interpret them the other way around, with the most significant digit being the rightmost one. Thus, Bob will first reverse both A and B and then find out the less number.\n",
    "\n",
    "For example, Bob's two numbers are A=123 and B=231. Bob will reverse them to be 321 and 132, and then Bob will find the less number as 132.\n",
    "\n",
    "Since Bob is busy in his homework, can you write a program to help Bob?\n",
    "\n",
    "### Input Specification\n",
    "The input contains two integers A and B (1≤A,B≤1012, and A≠B), the two numbers Bob has.\n",
    "\n",
    "### Output Specification\n",
    "Output one integer, the less number after Bob reverses both A and B.\n",
    "\n",
    "### Constraints\n",
    "Subtask\t| Points | Additional constraints <br>\n",
    "1 | 30 | A,B≤1000. <br>\n",
    "2 | 30 | A,B don't contain any zeroes. <br>\n",
    "3 | 40 | No additional constraints. <br>\n",
    "### Sample Input 1\n",
    "123 231\n",
    "### Sample Output 1\n",
    "132\n",
    "### Sample Input 2\n",
    "201 900\n",
    "### Sample Ouput 2\n",
    "9"
   ],
   "cell_type": "markdown",
   "metadata": {}
  }
 ]
}