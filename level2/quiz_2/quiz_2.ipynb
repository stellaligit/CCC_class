{
 "metadata": {
  "language_info": {
   "codemirror_mode": {
    "name": "ipython",
    "version": 3
   },
   "file_extension": ".py",
   "mimetype": "text/x-python",
   "name": "python",
   "nbconvert_exporter": "python",
   "pygments_lexer": "ipython3",
   "version": 3
  },
  "orig_nbformat": 2
 },
 "nbformat": 4,
 "nbformat_minor": 2,
 "cells": [
  {
   "source": [
    "## Bob's Reverse Number\n",
    "Bob has two positive integers A and B, and he wants to find out the less number. However, Bob doesn't like to interpret the number with the leftmost most significant digit, and he wants to interpret them the other way around, with the most significant digit being the rightmost one. Thus, Bob will first reverse both A and B and then find out the less number.\n",
    "\n",
    "For example, Bob's two numbers are A=123 and B=231. Bob will reverse them to be 321 and 132, and then Bob will find the less number as 132.\n",
    "\n",
    "Since Bob is busy in his homework, can you write a program to help Bob?\n",
    "\n",
    "### Input Specification\n",
    "The input contains two integers A and B (1≤A,B≤1012, and A≠B), the two numbers Bob has.\n",
    "\n",
    "### Output Specification\n",
    "Output one integer, the less number after Bob reverses both A and B.\n",
    "\n",
    "### Constraints\n",
    "Subtask\t| Points | Additional constraints <br>\n",
    "1 | 30 | A,B≤1000. <br>\n",
    "2 | 30 | A,B don't contain any zeroes. <br>\n",
    "3 | 40 | No additional constraints. <br>\n",
    "### Sample Input 1\n",
    "123 231\n",
    "### Sample Output 1\n",
    "132\n",
    "### Sample Input 2\n",
    "201 900\n",
    "### Sample Ouput 2\n",
    "9"
   ],
   "cell_type": "markdown",
   "metadata": {}
  },
  {
   "source": [
    "## Trip Planning\n",
    "Adam is planning a grand trip to Canada's Wonderland on Google Maps.\n",
    "\n",
    "His route consists of A, B, and C meters of uniform uphill, level, and downhill roadway, respectively. As a car maniac, he knows that his Ferrari (1974 Toyota Corolla) travels at 40 km/h on uphill roads, 60 km/h on level roads, and 70 km/h on downhill roads. Given these values, Adam isn't quite sure how long it would take him to arrive at his destination. Can you lend him a helping hand?\n",
    "\n",
    "### Constraints\n",
    "1≤A,B,C≤105\n",
    "\n",
    "### Input Specification\n",
    "The input will contain one line, with the integers A, B, and C.\n",
    "\n",
    "### Output Specification\n",
    "Output the time (in minutes) it would take for Adam to reach Canada's Wonderland, rounded to 2 decimal places.\n",
    "\n",
    "### Sample Input 1\n",
    "10000 60000 80000\n",
    "### Sample Output 1\n",
    "143.57\n",
    "### Explanation for Sample Output 1\n",
    "Since time = distance / speed, the time required is 10000m / 40 km/h + 60000m/ 60km/h+ 80000m/ 70km/h ≈ 2.393h, or around 143.57 minutes."
   ],
   "cell_type": "markdown",
   "metadata": {}
  }
 ]
}