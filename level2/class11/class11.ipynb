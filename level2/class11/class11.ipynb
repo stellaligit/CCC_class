{
 "metadata": {
  "language_info": {
   "codemirror_mode": {
    "name": "ipython",
    "version": 3
   },
   "file_extension": ".py",
   "mimetype": "text/x-python",
   "name": "python",
   "nbconvert_exporter": "python",
   "pygments_lexer": "ipython3",
   "version": 3
  },
  "orig_nbformat": 2
 },
 "nbformat": 4,
 "nbformat_minor": 2,
 "cells": [
  {
   "source": [
    "## Lonely Users\n",
    "Ren has recently created a website, Ternary Search, which he intends on turning into the premier platform for competitive programmers to talk about anything.\n",
    "\n",
    "In order to facilitate conversation between different users, Ren is working on a new feature called \"friends\". The feature will allow two distinct users to be friends. Ren is working on a prototype of this feature right now, so at present, all users are friends with Ren, and these are the only friendships present on the platform.\n",
    "\n",
    "Including Ren, there are N users on the platform. Ren eventually wants to track a metric which he calls the \"lonely user\" metric, which is a count of how many users have exactly one friend. With the prototype the way it is now, how many users are lonely users?\n",
    "\n",
    "### Constraints\n",
    "1≤T≤104\n",
    "\n",
    "1≤N≤109\n",
    "\n",
    "### Input Specification\n",
    "The first line contains a single positive integer T, the number of test cases.\n",
    "\n",
    "T lines follow, each line containing a single positive integer N, the number of users presently on the platform.\n",
    "\n",
    "### Output Specification\n",
    "Output T lines. On the ith line, output the number of lonely users for the ith test case.\n",
    "\n",
    "### Sample Input\n",
    "3 <br>\n",
    "1 <br>\n",
    "10 <br>\n",
    "100 <br>\n",
    "### Sample Output\n",
    "0 <br>\n",
    "9 <br>\n",
    "99 <br>"
   ],
   "cell_type": "markdown",
   "metadata": {}
  },
  {
   "source": [
    "## Pizza Orders\n",
    "Roger is ordering pizza for DMPG. He knows that there are P people who want to eat pepperoni pizza, C people who want to eat cheese pizza, and V people who want vegetarian pizza. If a single pizza feeds 3 people, how many pizzas will Roger have to order?\n",
    "\n",
    "### Constraints\n",
    "0≤P,C,V≤1000000000\n",
    "\n",
    "### Input Specification\n",
    "The first line will contain three space separated integers, P, C, and V.\n",
    "\n",
    "### Output Specification\n",
    "A single integer, the total number of pizzas Roger has to order.\n",
    "\n",
    "### Sample Input\n",
    "6 7 8\n",
    "### Sample Output\n",
    "8\n",
    "### Explanation for Sample Output\n",
    "Roger has to order 2 pepperoni pizzas, 3 cheese, and 3 vegetarian pizzas."
   ],
   "cell_type": "markdown",
   "metadata": {}
  }
 ]
}