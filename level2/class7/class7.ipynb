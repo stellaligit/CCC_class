{
 "metadata": {
  "language_info": {
   "codemirror_mode": {
    "name": "ipython",
    "version": 3
   },
   "file_extension": ".py",
   "mimetype": "text/x-python",
   "name": "python",
   "nbconvert_exporter": "python",
   "pygments_lexer": "ipython3",
   "version": 3
  },
  "orig_nbformat": 2
 },
 "nbformat": 4,
 "nbformat_minor": 2,
 "cells": [
  {
   "source": [
    "## My Favourite Digit\n",
    "DWITE Online Computer Programming Contest, November 2008, Problem 2\n",
    "\n",
    "Simply speaking, you need to know how to handle your numbers well. Given an integer, what is the largest digit present in that number?\n",
    "\n",
    "The input will contain 5 lines, integers 0≤N≤1000000.\n",
    "\n",
    "The output will contain 5 lines, each a single integer 0≤n≤9 – the largest digit present in the corresponding input number.\n",
    "\n",
    "### Sample Input\n",
    "<pre>\n",
    "1\n",
    "10\n",
    "102\n",
    "1025\n",
    "9999\n",
    "</pre>\n",
    "### Sample Output\n",
    "<pre>\n",
    "1\n",
    "1\n",
    "2\n",
    "5\n",
    "9\n",
    "</pre>"
   ],
   "cell_type": "markdown",
   "metadata": {}
  }
 ]
}