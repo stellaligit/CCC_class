{
 "metadata": {
  "language_info": {
   "codemirror_mode": {
    "name": "ipython",
    "version": 3
   },
   "file_extension": ".py",
   "mimetype": "text/x-python",
   "name": "python",
   "nbconvert_exporter": "python",
   "pygments_lexer": "ipython3",
   "version": 3
  },
  "orig_nbformat": 2
 },
 "nbformat": 4,
 "nbformat_minor": 2,
 "cells": [
  {
   "source": [
    "## My Favourite Digit\n",
    "DWITE Online Computer Programming Contest, November 2008, Problem 2\n",
    "\n",
    "Simply speaking, you need to know how to handle your numbers well. Given an integer, what is the largest digit present in that number?\n",
    "\n",
    "The input will contain 5 lines, integers 0≤N≤1000000.\n",
    "\n",
    "The output will contain 5 lines, each a single integer 0≤n≤9 – the largest digit present in the corresponding input number.\n",
    "\n",
    "### Sample Input\n",
    "<pre>\n",
    "1\n",
    "10\n",
    "102\n",
    "1025\n",
    "9999\n",
    "</pre>\n",
    "### Sample Output\n",
    "<pre>\n",
    "1\n",
    "1\n",
    "2\n",
    "5\n",
    "9\n",
    "</pre>"
   ],
   "cell_type": "markdown",
   "metadata": {}
  },
  {
   "source": [
    "## Stack of Presents\n",
    "The CS Nerd is dreaming about giving Christmas presents to the girl. Unfortunately, he does not have enough courage to do this in real life.\n",
    "\n",
    "In the dream, there are N presents that he could possibly give to the girl. The ith present has a weight of wi. The CS Nerd wants to impress the girl by building a large stack of presents – that is, presents stacked one on top of each other – and giving it to her.\n",
    "\n",
    "However, the CS Nerd needs to ensure that the sum of the weights of the presents above any present does not exceed that present's weight. What is the maximum number of presents that can be in the stack?\n",
    "\n",
    "### Input Specification\n",
    "The first line of input will contain a single integer N (1≤N≤100000).\n",
    "\n",
    "N lines of input follow. The ith line will consist of a single integer, wi (1≤wi≤109).\n",
    "\n",
    "For 20% of the points, N≤10.\n",
    "\n",
    "For an additional 30% of the points, N≤1000.\n",
    "\n",
    "### Output Specification\n",
    "Output a single integer, the maximum possible number of presents that can be in the stack.\n",
    "\n",
    "### Sample Input\n",
    "<pre>\n",
    "5\n",
    "7\n",
    "8\n",
    "2\n",
    "5\n",
    "10\n",
    "</pre>\n",
    "### Sample Output\n",
    "<pre>\n",
    "3\n",
    "</pre>\n",
    "### Explanation for Sample Output\n",
    "The CS Nerd can stack presents in the order 2, 4, and 3 from the bottom. The weights of these presents are 8, 5, and 2, respectively. Note that this is not the only possible solution."
   ],
   "cell_type": "markdown",
   "metadata": {}
  }
 ]
}