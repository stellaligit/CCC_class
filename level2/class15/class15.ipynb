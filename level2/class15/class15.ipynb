{
 "metadata": {
  "language_info": {
   "codemirror_mode": {
    "name": "ipython",
    "version": 3
   },
   "file_extension": ".py",
   "mimetype": "text/x-python",
   "name": "python",
   "nbconvert_exporter": "python",
   "pygments_lexer": "ipython3",
   "version": 3
  },
  "orig_nbformat": 2
 },
 "nbformat": 4,
 "nbformat_minor": 2,
 "cells": [
  {
   "source": [
    "## Koala Matchmaking\n",
    "Contrary to common belief, Koalas are very socially active. Ken Koala has been on many matchmaking sites, and is now interested in making his own matchmaking algorithm. Ken's algorithm takes in a koala's favourite number, N, and chooses an optimal integer X<N such that the average of N and X, denoted by A, is an integer and is maximal. The Koala with favourite number N will be matched with a Koala with favourite number A.\n",
    "\n",
    "Given the inputted value of N, you are to find the value of the integer, A.\n",
    "\n",
    "### Constraints\n",
    "3 ≤ N ≤ 2 ⋅ 10<sup>9</sup>\n",
    "\n",
    "]### Input Specification\n",
    "The input will contain an integer N.\n",
    "\n",
    "### Output Specification\n",
    "Output the value of the integer A.\n",
    "\n",
    "### Sample Input\n",
    "15\n",
    "### Sample Output\n",
    "14\n",
    "### Explanation for Sample\n",
    "The optimal X to choose is 13, resulting in an average of (15 + 13) / 2 = 14."
   ],
   "cell_type": "markdown",
   "metadata": {}
  }
 ]
}