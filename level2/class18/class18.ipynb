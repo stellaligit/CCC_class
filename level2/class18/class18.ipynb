{
 "metadata": {
  "language_info": {
   "codemirror_mode": {
    "name": "ipython",
    "version": 3
   },
   "file_extension": ".py",
   "mimetype": "text/x-python",
   "name": "python",
   "nbconvert_exporter": "python",
   "pygments_lexer": "ipython3",
   "version": 3
  },
  "orig_nbformat": 2
 },
 "nbformat": 4,
 "nbformat_minor": 2,
 "cells": [
  {
   "source": [
    "## Tarifa\n",
    "Pero has negotiated a Very Good data plan with his internet provider. The provider will let Pero use up X megabytes to surf the internet per month. Each megabyte that he doesn't spend in that month gets transferred to the next month and can still be spent. Of course, Pero can only spend the megabytes he actually has.\n",
    "\n",
    "If we know how many megabytes Pero has spent in each of the first N months of using the plan, determine how many megabytes Pero will have available in the N+1 month of using the plan.\n",
    "\n",
    "### Input Specification\n",
    "The first line of input contains the integer X (1≤X≤100).\n",
    "The second line of input contains the integer N (1≤N≤100).\n",
    "Each of the following N lines contains an integer Pi (0≤Pi≤10000), the number of megabytes spent in each of the first N months of using the plan. Numbers Pi will be such that Pero will never use more megabytes than he actually has.\n",
    "\n",
    "### Output Specification\n",
    "The first and only line of output must contain the required value from the task.\n",
    "\n",
    "### Sample Input 1\n",
    "10 <br>\n",
    "3 <br>\n",
    "4 <br>\n",
    "6 <br>\n",
    "2 <br>\n",
    "### Sample Output 1\n",
    "28\n",
    "### Explanation for Sample Output 1\n",
    "In the first month, out of 10 total megabytes, Pero has spent 4 and transferred 6 into the next month. In the second month, out of 16 (10+6) total megabytes, Pero has spent 6 and transferred 10. In the third month, out of 20 (10+10) total megabytes, Pero has spent 2 and transferred 18. In the fourth month, he had a total of 28 megabytes to spend.\n",
    "\n",
    "### Sample Input 2\n",
    "10 <br>\n",
    "3 <br>\n",
    "10 <br>\n",
    "2 <br>\n",
    "12 <br>\n",
    "### Sample Output 2\n",
    "16\n",
    "### Sample Input 3\n",
    "15 <br>\n",
    "3 <br>\n",
    "15 <br>\n",
    "10 <br>\n",
    "20 <br>\n",
    "### Sample Output 3\n",
    "15"
   ],
   "cell_type": "markdown",
   "metadata": {}
  }
 ]
}