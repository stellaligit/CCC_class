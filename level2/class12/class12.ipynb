{
 "metadata": {
  "language_info": {
   "codemirror_mode": {
    "name": "ipython",
    "version": 3
   },
   "file_extension": ".py",
   "mimetype": "text/x-python",
   "name": "python",
   "nbconvert_exporter": "python",
   "pygments_lexer": "ipython3",
   "version": 3
  },
  "orig_nbformat": 2
 },
 "nbformat": 4,
 "nbformat_minor": 2,
 "cells": [
  {
   "source": [
    "## Take a Number\n",
    "Due to overwhelming demand, the principal has installed one of those \"take a number\" dispensers to help the attendance secretary manage the line for late slips. The dispenser is filled with slips of paper numbered in order from 1 to 999. The principal has made sure to order lots of refills! The attendance desk opens at 8:00 am every morning and closes at 3:00 pm. When a late student arrives they take the next number from the machine, and when the attendance secretary is ready, he calls the next number in order. When a student takes the last number, the secretary immediately refills the machine with a new set of numbers from 1 to 999. At 3:00 pm, he removes the dispenser and stores it for the next day, then serves any students who are still waiting with numbers in their hands before closing for the day.\n",
    "\n",
    "You will be given detailed data for a number of days in the late slip lineup. The first line is an integer N (0<N<1000) representing the next number in the take a number machine. This will be followed by some number of lines (up to 1000000) representing the activity at the attendance desk. If a line contains the word TAKE, it means a student has arrived and taken the next number (when a student takes the last number available, the machine is immediately refilled). If a line contains the word SERVE it means that the attendance secretary has served the next student in line (this word will only appear in the file when there is at least one student waiting). If a line contains the word CLOSE it means that the desk has closed for the day and the attendance secretary will serve the students remaining in line and then go home. The very last line will contain the string EOF. At no time will there be more than 999 students waiting in line to be served.\n",
    "\n",
    "Your job is to keep track of the line. Each time you encounter the word CLOSE, you must print three integers on a single line, each separated by a single space. The first integer represents the number of students who were late that day, the second integer represents the number of students who remained in line after the desk was closed, and the third integer represents the next number in the take a number machine for the next day.\n",
    "\n",
    "### Sample Input\n",
    "<pre>\n",
    "23\n",
    "TAKE\n",
    "TAKE\n",
    "SERVE\n",
    "TAKE\n",
    "SERVE\n",
    "SERVE\n",
    "CLOSE\n",
    "TAKE\n",
    "TAKE\n",
    "TAKE\n",
    "SERVE\n",
    "CLOSE\n",
    "TAKE\n",
    "SERVE\n",
    "TAKE\n",
    "SERVE\n",
    "TAKE\n",
    "TAKE\n",
    "TAKE\n",
    "TAKE\n",
    "TAKE\n",
    "TAKE\n",
    "SERVE\n",
    "CLOSE\n",
    "EOF\n",
    "</pre>\n",
    "### Sample Output\n",
    "<pre>\n",
    "3 0 26\n",
    "3 2 29\n",
    "8 5 37\n",
    "</pre>"
   ],
   "cell_type": "markdown",
   "metadata": {}
  }
 ]
}