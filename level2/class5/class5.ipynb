{
 "metadata": {
  "language_info": {
   "codemirror_mode": {
    "name": "ipython",
    "version": 3
   },
   "file_extension": ".py",
   "mimetype": "text/x-python",
   "name": "python",
   "nbconvert_exporter": "python",
   "pygments_lexer": "ipython3",
   "version": 3
  },
  "orig_nbformat": 2
 },
 "nbformat": 4,
 "nbformat_minor": 2,
 "cells": [
  {
   "source": [
    "## Nasty Numbers\n",
    "We will call a positive integer nasty if it has at least two pairs of positive integer factors such that the difference of one pair equals the sum of the other pair.\n",
    "\n",
    "For example, 6 is nasty since 6×1=6,2×3=6,6−1=2+3; and 24 is also nasty since 12−2=6+4.\n",
    "\n",
    "Write a program which accepts as input a list of positive integers and determines if each one is nasty or not.\n",
    "\n",
    "### Input Specification\n",
    "The input is a list of positive integers, one per line. The first number in the list is the number of integers to be tested, and is at most 20. The integers to be tested are all less than 32001.\n",
    "\n",
    "### Output Specification\n",
    "The output should contain one line for each test value. Each line is to contain the test value and whether or not it is nasty.\n",
    "\n",
    "### Sample Input\n",
    "<pre>\n",
    "4\n",
    "6\n",
    "24\n",
    "30420\n",
    "10078\n",
    "</pre>\n",
    "### Sample Output\n",
    "<pre>\n",
    "6 is nasty\n",
    "24 is nasty\n",
    "30420 is nasty\n",
    "10078 is not nasty\n",
    "</pre>"
   ],
   "cell_type": "markdown",
   "metadata": {}
  }
 ]
}