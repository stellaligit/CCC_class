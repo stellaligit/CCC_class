{
 "metadata": {
  "language_info": {
   "codemirror_mode": {
    "name": "ipython",
    "version": 3
   },
   "file_extension": ".py",
   "mimetype": "text/x-python",
   "name": "python",
   "nbconvert_exporter": "python",
   "pygments_lexer": "ipython3",
   "version": 3
  },
  "orig_nbformat": 2
 },
 "nbformat": 4,
 "nbformat_minor": 2,
 "cells": [
  {
   "source": [
    "## Nasty Numbers\n",
    "We will call a positive integer nasty if it has at least two pairs of positive integer factors such that the difference of one pair equals the sum of the other pair.\n",
    "\n",
    "For example, 6 is nasty since 6×1=6,2×3=6,6−1=2+3; and 24 is also nasty since 12−2=6+4.\n",
    "\n",
    "Write a program which accepts as input a list of positive integers and determines if each one is nasty or not.\n",
    "\n",
    "### Input Specification\n",
    "The input is a list of positive integers, one per line. The first number in the list is the number of integers to be tested, and is at most 20. The integers to be tested are all less than 32001.\n",
    "\n",
    "### Output Specification\n",
    "The output should contain one line for each test value. Each line is to contain the test value and whether or not it is nasty.\n",
    "\n",
    "### Sample Input\n",
    "<pre>\n",
    "4\n",
    "6\n",
    "24\n",
    "30420\n",
    "10078\n",
    "</pre>\n",
    "### Sample Output\n",
    "<pre>\n",
    "6 is nasty\n",
    "24 is nasty\n",
    "30420 is nasty\n",
    "10078 is not nasty\n",
    "</pre>"
   ],
   "cell_type": "markdown",
   "metadata": {}
  },
  {
   "source": [
    "## Cross Number Puzzle\n",
    "Write a program to print:\n",
    "\n",
    "1. The perfect numbers between 1000 and 9999 inclusive. A perfect number is a positive integer which is equal to the sum of its proper divisors. A proper divisor is any divisor less than the number itself. For example, 6 is a perfect number since 1+2+3=6.\n",
    "2. All integers between 100 and 999 inclusive which are equal to the sum of the cubes of their digits.\n",
    "\n",
    "### Input Specification\n",
    "There is no input.\n",
    "\n",
    "### Output Specification\n",
    "All the perfect numbers between 1000 and 9999 inclusive on one line, followed by all integers between 100 and 999 inclusive which are equal to the sum of the cubes of their digits on one line."
   ],
   "cell_type": "markdown",
   "metadata": {}
  },
  {
   "source": [
    "## Count The Triplets\n",
    "\n",
    "Given an array of N integers, the task is to count all the triplets such that sum of two elements equal the third element. When counting triplets, only count the unique ones. A unique triplet is when all three numbers of the triplet put in increasing order are unique, for example, the triples 1 2 3 and 3 2 1 are not unique, but the triplets 8 5 3 and 8 4 4 are unique. The triplets themselves do not necessarily have to be unique, this means that 8 4 4 can be possible, as long as the 2 4s do not have the same index.\n",
    "\n",
    "### Input\n",
    "The first line of input contains N, denoting the size of the array.\n",
    "\n",
    "The second line of the input contains N space separated elements Ai, the elements of the array.\n",
    "\n",
    "### Output\n",
    "Output the number of unique triplets in the array, if there are no such triplets, output -1.\n",
    "\n",
    "### Constraints\n",
    "</pre>\n",
    "3≤N≤5000\n",
    "\n",
    "1≤Ai≤106\n",
    "</pre>\n",
    "### Sample Input 1\n",
    "<pre>\n",
    "4\n",
    "1 5 3 2\n",
    "</pre>\n",
    "### Sample Output 1\n",
    "\n",
    "2\n",
    "\n",
    "### Explanation Of Sample 1\n",
    "\n",
    "There are 2 such triplets, 1, 2, 3 and 2, 3, 5.\n",
    "\n",
    "### Sample Input 2\n",
    "<pre>\n",
    "3\n",
    "3 2 7\n",
    "</pre>\n",
    "### Sample Output 2\n",
    "<pre>\n",
    "-1\n",
    "</pre>"
   ],
   "cell_type": "markdown",
   "metadata": {}
  }
 ]
}