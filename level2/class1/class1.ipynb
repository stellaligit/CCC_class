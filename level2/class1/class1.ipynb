{
 "metadata": {
  "language_info": {
   "codemirror_mode": {
    "name": "ipython",
    "version": 3
   },
   "file_extension": ".py",
   "mimetype": "text/x-python",
   "name": "python",
   "nbconvert_exporter": "python",
   "pygments_lexer": "ipython3",
   "version": 3
  },
  "orig_nbformat": 2
 },
 "nbformat": 4,
 "nbformat_minor": 2,
 "cells": [
  {
   "source": [
    "## Valid Strings\n",
    "Veshy is entering strings into his calculator consisting of only (, ), and decimal digits however, some strings are invalid and produce an error.\n",
    "\n",
    "A valid string must either be:\n",
    "\n",
    "1. Nothing (an empty string).\n",
    "2. A non-negative integer expressed in decimal digits (e.g. 5, 230, 0032), optionally followed by another valid string.\n",
    "3. A pair of brackets enclosing a valid string (e.g. (5)), also optionally followed by another valid string.\n",
    "\n",
    "Examples of valid strings:\n",
    "(1)(2), ((1))(2), 1(2), (500())\n",
    "\n",
    "Examples of invalid strings:\n",
    "(12, (1)), ((1)()\n",
    "\n",
    "You are given N strings. For each string, s1,s2,…,sN, output on the ith line, the validity of the ith string. If the string is valid, output YES. If the string is invalid, output NO. The length in characters of each string, si, is guaranteed to be in the range \\[1,1000\\].\n",
    "\n",
    "### Constraints\n",
    "In all tests,\n",
    "1≤N≤100\n",
    "\n",
    "### Input Specification\n",
    "The first line contains one number, N.\n",
    "The following N lines each contain one string si.\n",
    "\n",
    "### utput Specification\n",
    "Output the validity of the ith string on the ith line."
   ],
   "cell_type": "markdown",
   "metadata": {}
  },
  {
   "source": [
    "## DNA or RNA?\n",
    "Deoxyribonucleic acid (DNA) and ribonucleic acid (RNA) are both molecules used for storing genetic code, and both consist of a number of bases connected in a line. A DNA or RNA molecule can be represented as a string of uppercase English letters, each letter representing a base.\n",
    "\n",
    "Each base in a DNA or RNA molecule must be one of the following: adenine (A), cytosine (C), guanine (G), thymine (T), or uracil (U). Thymine is found only in DNA, while uracil is found only in RNA. Adenine, cytosine, and guanine can be present in both DNA and RNA.\n",
    "\n",
    "Dr. Henri is studying a molecule consisting of N bases. He wants to know if it could be DNA, RNA, or something completely new!\n",
    "\n",
    "Constraints\n",
    "1≤N≤1000000\n",
    "\n",
    "### Input Specification\n",
    "The first line contains N.\n",
    "The second line contains N characters with no spaces, representing the bases of the molecule. All of the characters are uppercase English letters.\n",
    "\n",
    "### Output Specification\n",
    "Output DNA if the molecule could be DNA only, RNA if it could be RNA only, both if it could be either, and neither if it could not be RNA or DNA."
   ],
   "cell_type": "markdown",
   "metadata": {}
  },
  {
   "source": [
    "## Art\n",
    "Mahima has been experimenting with a new style of art. She stands in front of a canvas and, using her brush, flicks drops of paint onto the canvas. When she thinks she has created a masterpiece, she uses her 3D printer to print a frame to surround the canvas.\n",
    "\n",
    "Your job is to help Mahima by determining the coordinates of the smallest possible rectangular frame such that each drop of paint lies inside the frame. Points on the frame are not considered inside the frame.\n",
    "\n",
    "### Input Specification\n",
    "The first line of input contains the number of drops of paint, N, where 2≤N≤100 and N is an integer. Each of the next N lines contain exactly two positive integers X and Y separated by one comma (no spaces). Each of these pairs of integers represent the coordinates of a drop of paint on the canvas. Assume that X≤100 and Y≤100, and that there will be at least two distinct points. The coordinates (0,0) represent the bottom-left corner of the canvas.\n",
    "\n",
    "For 12 of the 15 available marks, X and Y will both be two-digit integers.\n",
    "\n",
    "### Output Specification\n",
    "Output two lines. Each line must contain exactly two non-negative integers separated by a single comma (no spaces). The first line represents the coordinates of the bottom-left corner of the rectangular frame. The second line represents the coordinates of the top-right corner of the rectangular frame.\n"
   ],
   "cell_type": "markdown",
   "metadata": {}
  },
  {
   "source": [
    "## Cyclic Shifts\n",
    "\n",
    "Thuc likes finding cyclic shifts of strings. A cyclic shift of a string is obtained by moving characters from the beginning of the string to the end of the string. We also consider a string to be a cyclic shift of itself. For example, the cyclic shifts of ABCDE are:\n",
    "\n",
    "ABCDE, BCDEA, CDEAB, DEABC, and EABCD.\n",
    "Given some text, T, and a string, S, determine if T contains a cyclic shift of S.\n",
    "\n",
    "### Input Specification\n",
    "The input will consist of exactly two lines containing only uppercase letters. The first line will be the text T, and the second line will be the string S. Each line will contain at most 1000 characters.\n",
    "\n",
    "For 6 of the 15 available marks, S will be exactly 3 characters in length.\n",
    "\n",
    "###Output Specification\n",
    "Output yes if the text, T, contains a cyclic shift of the string, S. Otherwise, output no."
   ],
   "cell_type": "markdown",
   "metadata": {}
  }
 ]
}