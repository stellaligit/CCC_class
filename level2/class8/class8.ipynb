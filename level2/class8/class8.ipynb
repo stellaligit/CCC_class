{
 "metadata": {
  "language_info": {
   "codemirror_mode": {
    "name": "ipython",
    "version": 3
   },
   "file_extension": ".py",
   "mimetype": "text/x-python",
   "name": "python",
   "nbconvert_exporter": "python",
   "pygments_lexer": "ipython3",
   "version": 3
  },
  "orig_nbformat": 2
 },
 "nbformat": 4,
 "nbformat_minor": 2,
 "cells": [
  {
   "source": [
    "## Dan's Power Attack\n",
    "Dan is fighting with N monsters, numbered from 1 to N. The i-th monster has a health point of hi. If a monster's health point becomes 0 or below, the monster is dead.\n",
    "\n",
    "Dan has two types of attacks as following:\n",
    "\n",
    "Regular attack: Dan will choose a monster and decrease the monster's health point by D.\n",
    "Powerful attack: Dan will choose a monster and decrease the monster's health point to 0 (i.e. directly kill the monster).\n",
    "But Dan can only use the powerful attack for at most K times. Can you help Dan to figure out the minimum number of regular attacks Dan needs so that he can kill all monsters?\n",
    "\n",
    "### Input Specification\n",
    "The first line of input contains three integers N, D, and K (1≤N≤2×105, 1≤D≤109, and 0≤K≤2×105), indicating the number of monsters, the damage for each regular attack, and the limit for the powerful attacks.\n",
    "\n",
    "The second line of input contains N integers, hi (1≤hi≤109), the health point of the i-th monster.\n",
    "\n",
    "### Output Specification\n",
    "Output one integer, the minimum number of regular attacks Dan needs so that he can kill all monsters.\n",
    "\n",
    "### Constraints\n",
    "Subtask | Points | Additional constraints\n",
    "1 | 20 | K=0.\n",
    "2 | 20 | N≤1000.\n",
    "3 | 60 | No additional constraints.\n",
    "### Sample Input 1\n",
    "3 1 1 <br>\n",
    "4 1 5 <br>\n",
    "### Sample Output 1\n",
    "5\n",
    "### Sample Input 2\n",
    "3 2 1 <br>\n",
    "4 1 5 <br>\n",
    "### Sample Output 2\n",
    "3"
   ],
   "cell_type": "markdown",
   "metadata": {}
  }
 ]
}