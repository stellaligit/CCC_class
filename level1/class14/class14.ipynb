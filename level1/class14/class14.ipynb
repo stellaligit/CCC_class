{
 "metadata": {
  "language_info": {
   "codemirror_mode": {
    "name": "ipython",
    "version": 3
   },
   "file_extension": ".py",
   "mimetype": "text/x-python",
   "name": "python",
   "nbconvert_exporter": "python",
   "pygments_lexer": "ipython3",
   "version": "3.8.3-final"
  },
  "orig_nbformat": 2,
  "kernelspec": {
   "name": "python3",
   "display_name": "Python 3"
  }
 },
 "nbformat": 4,
 "nbformat_minor": 2,
 "cells": [
  {
   "source": [
    "## Mouse Move\n",
    "\n",
    "Most likely, you will notice that you have a mouse attached to your computer, which lets you move the cursor around the screen. Your job is to get between the mouse and the cursor.\n",
    "\n",
    "Suppose that the bottom left-hand corner of your screen is (0,0), and all points on the screen are given by integer co-ordinates (x,y) where 0≤x≤c and 0≤y≤r. Thus, the top-right corner of the screen is at position (c,r), bottom-right corner is (c,0), and top-left corner is (0,r).\n",
    "\n",
    "When a mouse is moved, it sends a pair of integers (a,b), indicating that the cursor should be moved a units in the x-direction and b units in the y-direction. It is worth noting that this is relative motion (i.e., how far to move) rather than absolute motion (i.e., where to move). It is also worth noting that a and b may be positive, negative or zero.\n",
    "\n",
    "You can assume the mouse starts at position (0,0). Your job is to read input messages (i.e., relative motion positions sent by the mouse) and update the cursor to the new position on the screen. Your output (to the screen) will be the position of the mouse after each move.\n",
    "\n",
    "If the mouse hits the screen boundary, it stops moving in that direction. For example, if the mouse is supposed to move (−100,−10) from its current position (30,40), the final positions will be (0,30): the mouse will hit the left-hand side boundary, but still manages to move down.\n",
    "\n",
    "Input is listed as pairs, the first pair being (c,r), followed by the relative motion pairs (x,y). The input is terminated when the mouse moves (0,0)."
   ],
   "cell_type": "markdown",
   "metadata": {}
  }
 ]
}