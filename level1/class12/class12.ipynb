{
 "metadata": {
  "language_info": {
   "codemirror_mode": {
    "name": "ipython",
    "version": 3
   },
   "file_extension": ".py",
   "mimetype": "text/x-python",
   "name": "python",
   "nbconvert_exporter": "python",
   "pygments_lexer": "ipython3",
   "version": 3
  },
  "orig_nbformat": 2
 },
 "nbformat": 4,
 "nbformat_minor": 2,
 "cells": [
  {
   "source": [
    "## Alice's Shopping Trip\n",
    "Alice is shopping on a road with some interesting stores. The road is just like a number line, and Alice starts at the \"origin\" (x=0). A total of N (1≤N≤50000) stores are located at points x1,x2,…,xN (−105≤xi≤105). Alice wants to visit as many stores as possible in T (1≤T≤109) minutes. She travels 1 distance unit in 1 minute.\n",
    "\n",
    "Alice will visit the stores in a particular order. Since the stores closer to the origin are more interesting, she always heads for the unvisited store closest to the origin. No two stores will be the same distance away from the origin.\n",
    "\n",
    "Help Alice determine the maximum number of stores she can visit in T minutes.\n",
    "\n",
    "### Input Specification\n",
    "The first line contains two integers T and N.\n",
    "\n",
    "Each of the following N lines contains one integer xi, the location of store i.\n",
    "\n",
    "### Output Specification\n",
    "Output one integer, the maximum number of stores Alice can visit in T minutes."
   ],
   "cell_type": "markdown",
   "metadata": {}
  },
  {
   "source": [
    "## Going Back to the Definitions\n",
    "One day, Gary woke up to realize that the foundations of mathematics had been completely restructured overnight.\n",
    "\n",
    "It turns out that adding two numbers now means writing them side by side; that is, adding the R digit number A and the S digit number B is now defined as:\n",
    "\n",
    "A1A2…AR+B1B2…BS=A1A2…ARB1B2…BS\n",
    "\n",
    "For example, 123+45=12345, and 45+123=45123.\n",
    "\n",
    "Mr. Ing draws N positive integers on the board, and he asks the class to determine the maximum possible sum of all N integers, provided they can be ordered in any way possible. Gary gets a little nervous when everyone else raises their hands almost instantly, and he needs your help to solve the question.\n",
    "\n",
    "### Input Specification\n",
    "On the first line will be N (1≤N≤10000). On the next N lines, a single integer Ni (1≤Ni≤109) denoting one of the numbers Ing has written upon the board.\n",
    "\n",
    "### Output Specification\n",
    "The maximum possible sum that can be obtained by adding the N numbers together in any order. Keep in mind that the output will be possibly extremely long and thus may not fit in a 128-bit integer."
   ],
   "cell_type": "markdown",
   "metadata": {}
  },
  {
   "source": [
    "## Icon Scaling\n",
    "You have been asked to take a small icon that appears on the screen of a smart telephone and scale it up so it looks bigger on a regular computer screen.\n",
    "\n",
    "The icon will be encoded as characters (x and *) in a 3×3 grid as follows:\n",
    "\n",
    "<pre>\n",
    "*x*\n",
    " xx\n",
    "* *\n",
    "</pre>\n",
    "Write a program that accepts a positive integer scaling factor and outputs the scaled icon. A scaling factor of k means that each character is replaced by a k×k grid consisting only of that character.\n",
    "\n",
    "### Input Specification\n",
    "The input will be a positive integer k such that k<25.\n",
    "\n",
    "### Output Specification\n",
    "The output will be 3k lines, which represent each individual line scaled by a factor of k and repeated k times. A line is scaled by a factor of k by replacing each character in the line with k copies of the character."
   ],
   "cell_type": "markdown",
   "metadata": {}
  },
  {
   "source": [
    "## Spreadsheet Sorting\n",
    "Over the years, Alice has collected the physical data of her friend and secret love interest, Bob. Now she's trying to find trends in the data so she can learn more about Bob, and thus get closer to him. Alice entered the data into her spreadsheet software, but learned that unfortunately, the software doesn't work as it should. Namely, the \"sort by column\" function is broken. Each time Alice clicks a column, she wants all the rows in the spreadsheet to be sorted in nondecreasing order by values from that column. If rows have the same values in the column she clicks, the relative order of these rows should be preserved after the sort. Given the original spreadsheet and the sequence of the columns that Alice clicked, you are to determine the sorted spreadsheet.\n",
    "\n",
    "### Input Specification\n",
    "Line 1 of input contains two integers: R, the number of rows in the spreadsheet, and C, the number of columns in the spreadsheet (1≤R,C≤100).\n",
    "The next R lines will each contain C integers between 1 and 10000 inclusive, representing single cells of the spreadsheet.\n",
    "The next line of input will have an integer N (1≤N≤100), the number of sort commands that Alice makes.\n",
    "The last N lines will each contain a number ci (1≤ci≤C), indicating that she sorts by column ci for the i-th command (1≤i≤N).\n",
    "\n",
    "### Output Specification\n",
    "The output should contain R lines with C integers per line, the sorted spreadsheet after the N clicks."
   ],
   "cell_type": "markdown",
   "metadata": {}
  },
  {
   "source": [
    "## Up and Down\n",
    "Nikky and Byron are playing a silly game in gym class.\n",
    "\n",
    "Nikky is told by his teacher to walk forward a steps (1≤a≤100) and then walk backward b steps (1≤b≤100), after which he repeats a forward, b backward, etc. Likewise, Byron is told to walk forward c steps (1≤c≤100) and then walk backward d steps (1≤d≤100), after which he repeats c forward, d backward, etc. You may assume that a≥b and c≥d.\n",
    "\n",
    "Byron and Nikky have the same length of step, and they are required to take their steps simultaneously (that is, Nikky and Byron will both step forward on their first steps at the same time, and this will continue for each step).\n",
    "\n",
    "Nikky and Byron start walking from one end of a soccer field. After s steps (1≤s≤10000), the gym teacher will blow the whistle. Your task is to figure out who has moved the farthest away from the starting position when the whistle is blown.\n",
    "\n",
    "### Input Specification\n",
    "The input will be the 5 integers a, b, c, d, and s, each on a separate line.\n",
    "\n",
    "### Output Specification\n",
    "The output of your program will be one of three possibilities: Nikky if Nikky is farther ahead after s steps are taken; Byron if Byron is farther ahead after s steps are taken; Tied if Byron and Nikky are at the same distance from their starting position after s steps are taken."
   ],
   "cell_type": "markdown",
   "metadata": {}
  }
 ]
}