{
 "metadata": {
  "language_info": {
   "codemirror_mode": {
    "name": "ipython",
    "version": 3
   },
   "file_extension": ".py",
   "mimetype": "text/x-python",
   "name": "python",
   "nbconvert_exporter": "python",
   "pygments_lexer": "ipython3",
   "version": "3.8.3-final"
  },
  "orig_nbformat": 2,
  "kernelspec": {
   "name": "python_defaultSpec_1600045236625",
   "display_name": "Python 3.8.3 64-bit ('base': conda)"
  }
 },
 "nbformat": 4,
 "nbformat_minor": 2,
 "cells": [
  {
   "cell_type": "markdown",
   "metadata": {},
   "source": [
    "## Quesion called: [Occupy parking] (https://dmoj.ca/problem/ccc18j2)\n",
    "You supervise a small parking lot which has N parking spaces.\n",
    "\n",
    "Yesterday, you recorded which parking spaces were occupied by cars and which were empty.\n",
    "\n",
    "Today, you recorded the same information.\n",
    "\n",
    "How many of the parking spaces were occupied both yesterday and today?\n",
    "\n",
    "### Input Specification:\n",
    "The first line of input contains the integer N (1≤N≤100). The second and third lines of input contain N characters each. The second line of input records the information about yesterday's parking spaces, and the third line of input records the information about today's parking spaces. Each of these 2N characters will either be C to indicate an occupied space or . to indicate it was an empty parking space.\n",
    "\n",
    "### Output Specification:\n",
    "Output the number of parking spaces which were occupied yesterday and today."
   ]
  },
  {
   "cell_type": "code",
   "execution_count": null,
   "metadata": {
    "tags": []
   },
   "outputs": [],
   "source": [
    "n = int(input())\n",
    "a = [*input()]\n",
    "b = [*input()]\n",
    "c = list(map(lambda x : x[0] == x[1] and x[0] == \"C\", zip(a, b)))\n",
    "print(sum(c))"
   ]
  },
  {
   "cell_type": "markdown",
   "metadata": {},
   "source": [
    "## Question called: [Shifty Sum] (https://dmoj.ca/problem/ccc17j2)\n",
    "Suppose we have a number like 12. Let's define shifting a number to mean adding a zero at the end. For example, if we shift that number once, we get the number 120. If we shift the number again we get the number 1200. We can shift the number as many times as we want.\n",
    "\n",
    "In this problem you will be calculating a shifty sum, which is the sum of a number and the numbers we get by shifting. Specifically, you will be given the starting number N and a non-negative integer k. You must add together N and all the numbers you get by shifting a total of k times.\n",
    "\n",
    "For example, the shifty sum when N is 12 and k is 1 is: 12+120=132. As another example the shifty sum when N is 12 and k is 3 is 12+120+1200+12000=13332.\n",
    "\n",
    "### Input Specification:\n",
    "The first line of input contains the number N (1≤N≤10000). The second line of input contains k, the number of times to shift N (0≤k≤5).\n",
    "\n",
    "### Output Specification:\n",
    "Output the integer which is the shifty sum of N by k."
   ]
  },
  {
   "cell_type": "code",
   "execution_count": null,
   "metadata": {
    "tags": []
   },
   "outputs": [],
   "source": [
    "n = int(input())\n",
    "k = int(input())\n",
    "\n",
    "# value = n\n",
    "# for i in range(k):\n",
    "#     value += n * (10 ** (i + 1))\n",
    "\n",
    "# value = n\n",
    "# for i in range(k):\n",
    "#     n *= 10\n",
    "#     value += n\n",
    "\n",
    "value = n * (10 ** (k + 1) - 1) // 9\n",
    "\n",
    "print(value)"
   ]
  },
  {
   "cell_type": "markdown",
   "metadata": {},
   "source": [
    "## Question called: [Are we there yet?] (https://dmoj.ca/problem/ccc18j3)\n",
    "You decide to go for a very long drive on a very straight road. Along this road are five cities. As you travel, you record the distance between each pair of consecutive cities.\n",
    "\n",
    "You would like to calculate a distance table that indicates the distance between any two of the cities you have encountered.\n",
    "\n",
    "### Input Specification:\n",
    "The first line contains 4 positive integers less than 1000, each representing the distances between consecutive pairs of consecutive cities: specifically, the ith integer represents the distance between city i and city i+1.\n",
    "\n",
    "### Output Specification:\n",
    "The output should be 5 lines, with the ith line (1≤i≤5) containing the distance from city i to cities 1,2,…5 in order, separated by one space."
   ]
  },
  {
   "cell_type": "code",
   "execution_count": null,
   "metadata": {
    "tags": []
   },
   "outputs": [],
   "source": [
    "n = [int(i) for i in input().split()]\n",
    "\n",
    "d = 0\n",
    "a = [0]\n",
    "for i in range(4):\n",
    "    d += n[i]\n",
    "    a.append(d)\n",
    "print(*a)\n",
    "\n",
    "for i in range(1, 5):\n",
    "    t = a[i]\n",
    "    for j in range(5):\n",
    "        if j < i:\n",
    "            a[j] = a[j] + t\n",
    "        else:\n",
    "            a[j] = a[j] - t\n",
    "    print(*a)"
   ]
  },
  {
   "cell_type": "code",
   "execution_count": null,
   "metadata": {
    "tags": []
   },
   "outputs": [],
   "source": [
    "# test lambda etc\n",
    "\n",
    "a = [0, 3, 13, 25, 30]\n",
    "# b = [(1, a[1])] * 5\n",
    "# c = list(zip(enumerate(a), b))\n",
    "# d = list(map(lambda x : x[0][1] + x[1][1] if x[0][0] < x[1][0] else (x[0][1] - x[1][1]), c))\n",
    "\n",
    "a = list(map(lambda x : x[0][1] + x[1][1] if x[0][0] < x[1][0] else (x[0][1] - x[1][1]), list(zip(enumerate(a), [(1, a[1])] * 5))))\n",
    "print(a)\n"
   ]
  },
  {
   "cell_type": "code",
   "execution_count": null,
   "metadata": {
    "tags": []
   },
   "outputs": [],
   "source": [
    "n = [int(i) for i in input().split()]\n",
    "\n",
    "d = 0\n",
    "a = [0]\n",
    "for i in range(4):\n",
    "    d += n[i]\n",
    "    a.append(d)\n",
    "print(*a)\n",
    "\n",
    "for i in range(1, 5):\n",
    "    print(* list(map(lambda x : x[0][1] + x[1][1] if x[0][0] < x[1][0] else (x[0][1] - x[1][1]), list(zip(enumerate(a), [(i, a[i])] * 5)))))\n"
   ]
  },
  {
   "cell_type": "code",
   "execution_count": null,
   "metadata": {},
   "outputs": [],
   "source": [
    "# test\n",
    "n = [3, 10, 12, 5]\n",
    "a = [0, 3, 13, 25, 30]\n",
    "\n",
    "t = 0\n",
    "print(list(map(lambda x: t=x+t, n)))"
   ]
  }
 ]
}