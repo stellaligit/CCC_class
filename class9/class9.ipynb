{
 "metadata": {
  "language_info": {
   "codemirror_mode": {
    "name": "ipython",
    "version": 3
   },
   "file_extension": ".py",
   "mimetype": "text/x-python",
   "name": "python",
   "nbconvert_exporter": "python",
   "pygments_lexer": "ipython3",
   "version": "3.8.3-final"
  },
  "orig_nbformat": 2,
  "kernelspec": {
   "name": "python_defaultSpec_1600390373780",
   "display_name": "Python 3.8.3 64-bit ('base': conda)"
  }
 },
 "nbformat": 4,
 "nbformat_minor": 2,
 "cells": [
  {
   "cell_type": "markdown",
   "metadata": {},
   "source": [
    "## Quesion called: [Occupy parking] (https://dmoj.ca/problem/ccc18j2)\n",
    "You supervise a small parking lot which has N parking spaces.\n",
    "\n",
    "Yesterday, you recorded which parking spaces were occupied by cars and which were empty.\n",
    "\n",
    "Today, you recorded the same information.\n",
    "\n",
    "How many of the parking spaces were occupied both yesterday and today?\n",
    "\n",
    "### Input Specification:\n",
    "The first line of input contains the integer N (1≤N≤100). The second and third lines of input contain N characters each. The second line of input records the information about yesterday's parking spaces, and the third line of input records the information about today's parking spaces. Each of these 2N characters will either be C to indicate an occupied space or . to indicate it was an empty parking space.\n",
    "\n",
    "### Output Specification:\n",
    "Output the number of parking spaces which were occupied yesterday and today."
   ]
  },
  {
   "cell_type": "code",
   "execution_count": null,
   "metadata": {
    "tags": []
   },
   "outputs": [],
   "source": [
    "n = int(input())\n",
    "a = [*input()]\n",
    "b = [*input()]\n",
    "c = list(map(lambda x : x[0] == x[1] and x[0] == \"C\", zip(a, b)))\n",
    "print(sum(c))"
   ]
  },
  {
   "cell_type": "markdown",
   "metadata": {},
   "source": [
    "## Question called: [Shifty Sum] (https://dmoj.ca/problem/ccc17j2)\n",
    "Suppose we have a number like 12. Let's define shifting a number to mean adding a zero at the end. For example, if we shift that number once, we get the number 120. If we shift the number again we get the number 1200. We can shift the number as many times as we want.\n",
    "\n",
    "In this problem you will be calculating a shifty sum, which is the sum of a number and the numbers we get by shifting. Specifically, you will be given the starting number N and a non-negative integer k. You must add together N and all the numbers you get by shifting a total of k times.\n",
    "\n",
    "For example, the shifty sum when N is 12 and k is 1 is: 12+120=132. As another example the shifty sum when N is 12 and k is 3 is 12+120+1200+12000=13332.\n",
    "\n",
    "### Input Specification:\n",
    "The first line of input contains the number N (1≤N≤10000). The second line of input contains k, the number of times to shift N (0≤k≤5).\n",
    "\n",
    "### Output Specification:\n",
    "Output the integer which is the shifty sum of N by k."
   ]
  },
  {
   "cell_type": "code",
   "execution_count": null,
   "metadata": {
    "tags": []
   },
   "outputs": [],
   "source": [
    "n = int(input())\n",
    "k = int(input())\n",
    "\n",
    "# value = n\n",
    "# for i in range(k):\n",
    "#     value += n * (10 ** (i + 1))\n",
    "\n",
    "# value = n\n",
    "# for i in range(k):\n",
    "#     n *= 10\n",
    "#     value += n\n",
    "\n",
    "value = n * (10 ** (k + 1) - 1) // 9\n",
    "\n",
    "print(value)"
   ]
  },
  {
   "cell_type": "markdown",
   "metadata": {},
   "source": [
    "## Question called: [Are we there yet?] (https://dmoj.ca/problem/ccc18j3)\n",
    "You decide to go for a very long drive on a very straight road. Along this road are five cities. As you travel, you record the distance between each pair of consecutive cities.\n",
    "\n",
    "You would like to calculate a distance table that indicates the distance between any two of the cities you have encountered.\n",
    "\n",
    "### Input Specification:\n",
    "The first line contains 4 positive integers less than 1000, each representing the distances between consecutive pairs of consecutive cities: specifically, the ith integer represents the distance between city i and city i+1.\n",
    "\n",
    "### Output Specification:\n",
    "The output should be 5 lines, with the ith line (1≤i≤5) containing the distance from city i to cities 1,2,…5 in order, separated by one space."
   ]
  },
  {
   "cell_type": "code",
   "execution_count": null,
   "metadata": {
    "tags": []
   },
   "outputs": [],
   "source": [
    "n = [int(i) for i in input().split()]\n",
    "\n",
    "d = 0\n",
    "a = [0]\n",
    "for i in range(4):\n",
    "    d += n[i]\n",
    "    a.append(d)\n",
    "print(*a)\n",
    "\n",
    "for i in range(1, 5):\n",
    "    t = a[i]\n",
    "    for j in range(5):\n",
    "        if j < i:\n",
    "            a[j] = a[j] + t\n",
    "        else:\n",
    "            a[j] = a[j] - t\n",
    "    print(*a)"
   ]
  },
  {
   "cell_type": "code",
   "execution_count": null,
   "metadata": {
    "tags": []
   },
   "outputs": [],
   "source": [
    "# test lambda etc\n",
    "\n",
    "a = [0, 3, 13, 25, 30]\n",
    "# b = [(1, a[1])] * 5\n",
    "# c = list(zip(enumerate(a), b))\n",
    "# d = list(map(lambda x : x[0][1] + x[1][1] if x[0][0] < x[1][0] else (x[0][1] - x[1][1]), c))\n",
    "\n",
    "a = list(map(lambda x : x[0][1] + x[1][1] if x[0][0] < x[1][0] else (x[0][1] - x[1][1]), list(zip(enumerate(a), [(1, a[1])] * 5))))\n",
    "print(a)\n"
   ]
  },
  {
   "cell_type": "code",
   "execution_count": null,
   "metadata": {
    "tags": []
   },
   "outputs": [],
   "source": [
    "n = [int(i) for i in input().split()]\n",
    "\n",
    "d = 0\n",
    "a = [0]\n",
    "for i in range(4):\n",
    "    d += n[i]\n",
    "    a.append(d)\n",
    "print(*a)\n",
    "\n",
    "for i in range(1, 5):\n",
    "    print(* list(map(lambda x : x[0][1] + x[1][1] if x[0][0] < x[1][0] else (x[0][1] - x[1][1]), list(zip(enumerate(a), [(i, a[i])] * 5)))))\n"
   ]
  },
  {
   "cell_type": "code",
   "execution_count": null,
   "metadata": {},
   "outputs": [],
   "source": [
    "# test\n",
    "n = [3, 10, 12, 5]\n",
    "a = [0, 3, 13, 25, 30]\n",
    "\n",
    "t = 0\n",
    "print(list(map(lambda x: t=x+t, n)))"
   ]
  },
  {
   "source": [
    "## Question called: [Moving at the same time] (https://dmoj.ca/problem/dwite09c4p3)\n",
    "Silly title, but this is exactly what this question addresses. There are too many questions on the CompSci.ca forums asking just that -- \"I have 2 (or more) characters in my game, how do I move them both at the same time?\" This should be obvious to some, and might sound more complicated than it is to others. Maybe the constraints of this question will provide a clue?\n",
    "\n",
    "The input will contain 5 lines, each line will describe a game field and characters on it. The size of the field is the size of the line, 1≤N≤20. Periods are empty spaces, while integers 0≤C≤3 are Characters. The value of the integer represents that character's speed, in the direction to the right of where they are. Ones the character leaves the field, we are no longer concerned with that character. If two characters end up on the same spot, represent them as a sum of their velocities. In the initial input, all of the characters are distinct, and it is guaranteed that the overlapping sum is never greater than 9.\n",
    "\n",
    "The judge is the observer of the game. Each output line is judge's perception of the game (that is, each output line is a frame of this game's FPS (frames per second)). If a character's velocity is 2, then in time from one frame to the next, that character moves 2 spots to the right.\n",
    "\n",
    "The output will contain 5 sets of 5 lines each, the snapshots of the gamefield for each game as it progresses, starting with the input, and following with 4 frames."
   ],
   "cell_type": "markdown",
   "metadata": {}
  },
  {
   "cell_type": "code",
   "execution_count": null,
   "metadata": {
    "tags": []
   },
   "outputs": [],
   "source": [
    "for i in range(5):\n",
    "    field = [*input()]\n",
    "    print(*field, sep='')\n",
    "    b = []\n",
    "    for x, y in enumerate(field):\n",
    "        if y == '.':\n",
    "            continue\n",
    "        else:\n",
    "            b.append([int(y), x])\n",
    "\n",
    "    for j in range(4):\n",
    "        # for i in b:\n",
    "        #     i[1] += i[0]\n",
    "        b = list(map(lambda(i:i[1] += i[0]), b))\n",
    "\n",
    "        n = len(field)\n",
    "        field = ['.'] * n\n",
    "        for i in b:\n",
    "            if i[1] >= n:\n",
    "                continue\n",
    "            elif field[i[1]] != '.':\n",
    "                field[i[1]] += i[0]\n",
    "            else:\n",
    "                field[i[1]] = i[0]\n",
    "\n",
    "        print(*field, sep='')"
   ]
  },
  {
   "cell_type": "code",
   "execution_count": null,
   "metadata": {
    "tags": []
   },
   "outputs": [],
   "source": [
    "a = ['2', '.', '1', '.', '.']\n",
    "b = []\n",
    "for x, y in enumerate(a):\n",
    "    if y == '.':\n",
    "        continue\n",
    "    else:\n",
    "        b.append([int(y), x])"
   ]
  },
  {
   "cell_type": "code",
   "execution_count": null,
   "metadata": {
    "tags": []
   },
   "outputs": [],
   "source": [
    "b = [[2, 0], [1, 2]]\n",
    "for i in b:\n",
    "    i[1] += i[0]\n",
    "# [[2, 2], [1, 3]]"
   ]
  },
  {
   "source": [
    "# ..21....\n",
    "b = [[2, 2], [1, 3]]\n",
    "# b = [[2, 4], [1, 4]]\n",
    "b = [[2, 7], [1, 6]]\n",
    "n = 7\n",
    "\n",
    "field = ['.'] * n\n",
    "for i in b:\n",
    "    if i[1] >= n:\n",
    "        continue\n",
    "    elif field[i[1]] != '.':\n",
    "        field[i[1]] += i[0]\n",
    "    else:\n",
    "        field[i[1]] = i[0]\n",
    "\n",
    "print(*field, sep='')"
   ],
   "cell_type": "code",
   "metadata": {
    "tags": []
   },
   "execution_count": null,
   "outputs": []
  },
  {
   "source": [
    "## Question called: [Arrival Time] (https://dmoj.ca/problem/ccc16j4)\n",
    "Fiona commutes to work each day. If there is no rush-hour traffic, her commute time is 2 hours. However, there is often rush-hour traffic. Specifically, rush-hour traffic occurs from 07:00 (7am) until 10:00 (10am) in the morning and 15:00 (3pm) until 19:00 (7pm) in the afternoon. During rush-hour traffic, her speed is reduced by half.\n",
    "\n",
    "She leaves either on the hour (at XX:00), 20 minutes past the hour (at XX:20), or 40 minutes past the hour (at XX:40).\n",
    "\n",
    "Given Fiona's departure time, at what time does she arrive at work?\n",
    "\n",
    "Input Specification\n",
    "The input will be one line, which contains an expression of the form HH:MM, in which HH is one of the 24 starting hours (00, 01, ..., 23) and MM is one of the three possible departure minute times (00, 20, 40).\n",
    "\n",
    "Output Specification\n",
    "Output the time of Fiona's arrival, in the form HH:MM."
   ],
   "cell_type": "markdown",
   "metadata": {}
  },
  {
   "cell_type": "code",
   "execution_count": null,
   "metadata": {
    "tags": []
   },
   "outputs": [],
   "source": [
    "s = input()\n",
    "a = s.split(\":\")\n",
    "t = int(a[0]) * 60 + int(a[1])\n",
    "\n",
    "if 0 <= t <= 300:\n",
    "\tx = t + 120\n",
    "elif 300 < t < 400:\n",
    "\tx = t * 2 - 180\n",
    "elif t == 400:\n",
    "\tx = 610\n",
    "elif 420 <= t < 600:\n",
    "\tx = (t + 840) // 2\n",
    "elif 600 <= t <= 780:\n",
    "\tx = t + 120\n",
    "elif 780 < t <= 900:\n",
    "\tx = t * 2 - 660\n",
    "elif 900 < t < 1140:\n",
    "\tx = (t + 23*60) // 2\n",
    "elif 1140 <= t:\n",
    "\tx = t + 120\n",
    "\tif x >= 1440:\n",
    "\t\tx -= 1440\n",
    "\n",
    "# print(f\"{x // 60}:{x % 60}\")\n",
    "print(\"{0:02}:{1:02}\".format(x // 60, x % 60))"
   ]
  }
 ]
}