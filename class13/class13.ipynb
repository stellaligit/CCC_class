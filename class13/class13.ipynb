{
 "metadata": {
  "language_info": {
   "codemirror_mode": {
    "name": "ipython",
    "version": 3
   },
   "file_extension": ".py",
   "mimetype": "text/x-python",
   "name": "python",
   "nbconvert_exporter": "python",
   "pygments_lexer": "ipython3",
   "version": 3
  },
  "orig_nbformat": 2
 },
 "nbformat": 4,
 "nbformat_minor": 2,
 "cells": [
  {
   "source": [
    "## Cat Lovers\n",
    "Kirito loves cats. He joined a survey with N people and a single question:\n",
    "\n",
    "> Do you like cats more or dogs more? You may only choose one.\n",
    "\n",
    "All N people are required to answer. Each person answered with cats or dogs.\n",
    "\n",
    "If someone responds with cats, then he or she likes cats more. Otherwise, he or she likes dogs more.\n",
    "\n",
    "Given that all N people answered with either cats or dogs, what was the total preference?\n",
    "\n",
    "Note: If the number of responses for cats and dogs are equal, then output equal.\n",
    "\n",
    "### Input Specification\n",
    "The first line will read N (1≤N≤104), the number of people who answered.\n",
    "\n",
    "The next N lines will contain a string, either cats or dogs.\n",
    "\n",
    "### Output Specification\n",
    "The output will either be cats or dogs, cats if more people responded with cats, dogs if more people responded with dogs. Otherwise, output equal."
   ],
   "cell_type": "markdown",
   "metadata": {}
  },
  {
   "source": [
    "## Even Occurrences\n",
    "Bob got a string S consisting of lowercase English letters. Bob wants to know if every letter appears an even number of times in S. If so, print YES; otherwise, print NO. Can you write a program to help Bob?\n",
    "\n",
    "### Input Specification\n",
    "The input contains one string, S, consisting only of lowercase English letters. The length of the string S is in the range 1,10^6.\n",
    "\n",
    "In 20% test cases, the length of the string S is in the range 1,100.\n",
    "\n",
    "In another 40% test cases, the length of the string S is in the range 1,10^4.\n",
    "\n",
    "### Output Specification\n",
    "Output YES, if every letter in S showes up an even number of times; otherwise, output NO."
   ],
   "cell_type": "markdown",
   "metadata": {}
  },
  {
   "source": [
    "## String Connection\n",
    "Bruce has N strings, S1, S2, …, SN. Each string consists of L lowercase letters. Now Bruce wants to connect these strings together to make a long string. Each string will be used once and only once in this long string. Among all strings that Bruce can produce in this way, find the lexicographically biggest one.\n",
    "\n",
    "### Input Specification\n",
    "The first line contains two integers, N and L, (1≤N≤1000, 1≤L≤1000), the number of strings and the length of each string.\n",
    "\n",
    "Each of the following N lines consists of one string, Si, which is only made by lowercase letters.\n",
    "\n",
    "In 20% cases, N≤10, L≤10.\n",
    "\n",
    "### Output Specification\n",
    "Print the lexicographically biggest string that Bruce can produce."
   ],
   "cell_type": "markdown",
   "metadata": {}
  }
 ]
}